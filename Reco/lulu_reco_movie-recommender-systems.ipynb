{
 "cells": [
  {
   "cell_type": "markdown",
   "metadata": {
    "_cell_guid": "da447453-96e3-48fe-93cd-b9195433add6",
    "_uuid": "b63091dc0b9d04f19ab8861754a83b79c1789e96"
   },
   "source": [
    "# Movies Recommender System\n",
    "\n",
    "\n",
    "The dataset used is the MovieLens Latest Datasets, which can be found at https://grouplens.org/datasets/movielens/latest/\n",
    "\n",
    "```\n",
    "For this project, you will build a simple demo recommender system of your own, given the tools and skills you have learned in this course. It is up to you whether you want to implement a similarity- or machine learning-based recommender system.\n",
    "```\n",
    "\n",
    "We'll be using a machine learning-based recommender system, to select a __Collaborative recommender model__.\n",
    "\n",
    "Using the small dataset, with 100k rating. \n",
    "\n",
    "__We don't need much more than a list of users, of movies, and of ratings to use this model.__"
   ]
  },
  {
   "cell_type": "code",
   "execution_count": 49,
   "metadata": {
    "_cell_guid": "78fea705-f9ad-4a81-aafd-8b7b624110d1",
    "_uuid": "1c291fe3725c706e0003f01f0102abb9709f25fc"
   },
   "outputs": [],
   "source": [
    "from surprise import Reader, Dataset, SVD\n",
    "from surprise import SVD\n",
    "from surprise import Dataset\n",
    "import pandas as pd\n",
    "from surprise.model_selection import cross_validate"
   ]
  },
  {
   "cell_type": "markdown",
   "metadata": {},
   "source": [
    "# The Movie Database (md)\n",
    "\n",
    "* The author use a dataset other than the one provided (Amazon Home Improvement Reviews) : Yes\n",
    "* Description: as stated above, we provided information on what data is in the dataset, how much data, and where to find the dataset (if applicable)."
   ]
  },
  {
   "cell_type": "code",
   "execution_count": 50,
   "metadata": {},
   "outputs": [
    {
     "name": "stderr",
     "output_type": "stream",
     "text": [
      "/home/kelu/.local/lib/python3.6/site-packages/IPython/core/interactiveshell.py:3072: DtypeWarning: Columns (10) have mixed types.Specify dtype option on import or set low_memory=False.\n",
      "  interactivity=interactivity, compiler=compiler, result=result)\n"
     ]
    },
    {
     "data": {
      "text/html": [
       "<div>\n",
       "<style scoped>\n",
       "    .dataframe tbody tr th:only-of-type {\n",
       "        vertical-align: middle;\n",
       "    }\n",
       "\n",
       "    .dataframe tbody tr th {\n",
       "        vertical-align: top;\n",
       "    }\n",
       "\n",
       "    .dataframe thead th {\n",
       "        text-align: right;\n",
       "    }\n",
       "</style>\n",
       "<table border=\"1\" class=\"dataframe\">\n",
       "  <thead>\n",
       "    <tr style=\"text-align: right;\">\n",
       "      <th></th>\n",
       "      <th>movieId</th>\n",
       "      <th>imdb_id</th>\n",
       "      <th>title</th>\n",
       "    </tr>\n",
       "  </thead>\n",
       "  <tbody>\n",
       "    <tr>\n",
       "      <th>0</th>\n",
       "      <td>862</td>\n",
       "      <td>tt0114709</td>\n",
       "      <td>Toy Story</td>\n",
       "    </tr>\n",
       "    <tr>\n",
       "      <th>1</th>\n",
       "      <td>8844</td>\n",
       "      <td>tt0113497</td>\n",
       "      <td>Jumanji</td>\n",
       "    </tr>\n",
       "    <tr>\n",
       "      <th>2</th>\n",
       "      <td>15602</td>\n",
       "      <td>tt0113228</td>\n",
       "      <td>Grumpier Old Men</td>\n",
       "    </tr>\n",
       "    <tr>\n",
       "      <th>3</th>\n",
       "      <td>31357</td>\n",
       "      <td>tt0114885</td>\n",
       "      <td>Waiting to Exhale</td>\n",
       "    </tr>\n",
       "    <tr>\n",
       "      <th>4</th>\n",
       "      <td>11862</td>\n",
       "      <td>tt0113041</td>\n",
       "      <td>Father of the Bride Part II</td>\n",
       "    </tr>\n",
       "  </tbody>\n",
       "</table>\n",
       "</div>"
      ],
      "text/plain": [
       "  movieId    imdb_id                        title\n",
       "0     862  tt0114709                    Toy Story\n",
       "1    8844  tt0113497                      Jumanji\n",
       "2   15602  tt0113228             Grumpier Old Men\n",
       "3   31357  tt0114885            Waiting to Exhale\n",
       "4   11862  tt0113041  Father of the Bride Part II"
      ]
     },
     "execution_count": 50,
     "metadata": {},
     "output_type": "execute_result"
    }
   ],
   "source": [
    "md = pd. read_csv('data/movies_metadata.csv')\n",
    "md = md[[\"id\",\"imdb_id\",\"title\"]]\n",
    "md.columns = [\"movieId\",\"imdb_id\",\"title\"]\n",
    "#md.movieId = md.movieId.astype('int64',errors=\"ignore\")\n",
    "md.head()"
   ]
  },
  {
   "cell_type": "markdown",
   "metadata": {},
   "source": [
    "# Opening ratings for all users"
   ]
  },
  {
   "cell_type": "code",
   "execution_count": 51,
   "metadata": {},
   "outputs": [],
   "source": [
    "reader = Reader()\n",
    "ratings = pd.read_csv('data/ratings_small.csv')\n",
    "data = Dataset.load_from_df(ratings[['userId', 'movieId', 'rating']], reader) "
   ]
  },
  {
   "cell_type": "markdown",
   "metadata": {},
   "source": [
    "__Verifications__. We will check below for the integrity of data \n",
    "* The data was cleaned and free of faulty, unnecessary, and missing values. \n",
    "* The data was appropriate for the analyses."
   ]
  },
  {
   "cell_type": "code",
   "execution_count": 68,
   "metadata": {},
   "outputs": [
    {
     "data": {
      "text/html": [
       "<div>\n",
       "<style scoped>\n",
       "    .dataframe tbody tr th:only-of-type {\n",
       "        vertical-align: middle;\n",
       "    }\n",
       "\n",
       "    .dataframe tbody tr th {\n",
       "        vertical-align: top;\n",
       "    }\n",
       "\n",
       "    .dataframe thead th {\n",
       "        text-align: right;\n",
       "    }\n",
       "</style>\n",
       "<table border=\"1\" class=\"dataframe\">\n",
       "  <thead>\n",
       "    <tr style=\"text-align: right;\">\n",
       "      <th></th>\n",
       "      <th>userId</th>\n",
       "      <th>movieId</th>\n",
       "      <th>rating</th>\n",
       "      <th>timestamp</th>\n",
       "    </tr>\n",
       "  </thead>\n",
       "  <tbody>\n",
       "    <tr>\n",
       "      <th>0</th>\n",
       "      <td>1</td>\n",
       "      <td>31</td>\n",
       "      <td>2.5</td>\n",
       "      <td>1260759144</td>\n",
       "    </tr>\n",
       "    <tr>\n",
       "      <th>1</th>\n",
       "      <td>1</td>\n",
       "      <td>1029</td>\n",
       "      <td>3.0</td>\n",
       "      <td>1260759179</td>\n",
       "    </tr>\n",
       "    <tr>\n",
       "      <th>2</th>\n",
       "      <td>1</td>\n",
       "      <td>1061</td>\n",
       "      <td>3.0</td>\n",
       "      <td>1260759182</td>\n",
       "    </tr>\n",
       "    <tr>\n",
       "      <th>3</th>\n",
       "      <td>1</td>\n",
       "      <td>1129</td>\n",
       "      <td>2.0</td>\n",
       "      <td>1260759185</td>\n",
       "    </tr>\n",
       "    <tr>\n",
       "      <th>4</th>\n",
       "      <td>1</td>\n",
       "      <td>1172</td>\n",
       "      <td>4.0</td>\n",
       "      <td>1260759205</td>\n",
       "    </tr>\n",
       "  </tbody>\n",
       "</table>\n",
       "</div>"
      ],
      "text/plain": [
       "   userId  movieId  rating   timestamp\n",
       "0       1       31     2.5  1260759144\n",
       "1       1     1029     3.0  1260759179\n",
       "2       1     1061     3.0  1260759182\n",
       "3       1     1129     2.0  1260759185\n",
       "4       1     1172     4.0  1260759205"
      ]
     },
     "execution_count": 68,
     "metadata": {},
     "output_type": "execute_result"
    }
   ],
   "source": [
    "ratings.head()"
   ]
  },
  {
   "cell_type": "code",
   "execution_count": 69,
   "metadata": {},
   "outputs": [
    {
     "data": {
      "text/html": [
       "<div>\n",
       "<style scoped>\n",
       "    .dataframe tbody tr th:only-of-type {\n",
       "        vertical-align: middle;\n",
       "    }\n",
       "\n",
       "    .dataframe tbody tr th {\n",
       "        vertical-align: top;\n",
       "    }\n",
       "\n",
       "    .dataframe thead th {\n",
       "        text-align: right;\n",
       "    }\n",
       "</style>\n",
       "<table border=\"1\" class=\"dataframe\">\n",
       "  <thead>\n",
       "    <tr style=\"text-align: right;\">\n",
       "      <th></th>\n",
       "      <th>userId</th>\n",
       "      <th>movieId</th>\n",
       "      <th>rating</th>\n",
       "      <th>timestamp</th>\n",
       "    </tr>\n",
       "  </thead>\n",
       "  <tbody>\n",
       "    <tr>\n",
       "      <th>count</th>\n",
       "      <td>100004.000000</td>\n",
       "      <td>100004.000000</td>\n",
       "      <td>100004.000000</td>\n",
       "      <td>1.000040e+05</td>\n",
       "    </tr>\n",
       "    <tr>\n",
       "      <th>mean</th>\n",
       "      <td>347.011310</td>\n",
       "      <td>12548.664363</td>\n",
       "      <td>3.543608</td>\n",
       "      <td>1.129639e+09</td>\n",
       "    </tr>\n",
       "    <tr>\n",
       "      <th>std</th>\n",
       "      <td>195.163838</td>\n",
       "      <td>26369.198969</td>\n",
       "      <td>1.058064</td>\n",
       "      <td>1.916858e+08</td>\n",
       "    </tr>\n",
       "    <tr>\n",
       "      <th>min</th>\n",
       "      <td>1.000000</td>\n",
       "      <td>1.000000</td>\n",
       "      <td>0.500000</td>\n",
       "      <td>7.896520e+08</td>\n",
       "    </tr>\n",
       "    <tr>\n",
       "      <th>25%</th>\n",
       "      <td>182.000000</td>\n",
       "      <td>1028.000000</td>\n",
       "      <td>3.000000</td>\n",
       "      <td>9.658478e+08</td>\n",
       "    </tr>\n",
       "    <tr>\n",
       "      <th>50%</th>\n",
       "      <td>367.000000</td>\n",
       "      <td>2406.500000</td>\n",
       "      <td>4.000000</td>\n",
       "      <td>1.110422e+09</td>\n",
       "    </tr>\n",
       "    <tr>\n",
       "      <th>75%</th>\n",
       "      <td>520.000000</td>\n",
       "      <td>5418.000000</td>\n",
       "      <td>4.000000</td>\n",
       "      <td>1.296192e+09</td>\n",
       "    </tr>\n",
       "    <tr>\n",
       "      <th>max</th>\n",
       "      <td>671.000000</td>\n",
       "      <td>163949.000000</td>\n",
       "      <td>5.000000</td>\n",
       "      <td>1.476641e+09</td>\n",
       "    </tr>\n",
       "  </tbody>\n",
       "</table>\n",
       "</div>"
      ],
      "text/plain": [
       "              userId        movieId         rating     timestamp\n",
       "count  100004.000000  100004.000000  100004.000000  1.000040e+05\n",
       "mean      347.011310   12548.664363       3.543608  1.129639e+09\n",
       "std       195.163838   26369.198969       1.058064  1.916858e+08\n",
       "min         1.000000       1.000000       0.500000  7.896520e+08\n",
       "25%       182.000000    1028.000000       3.000000  9.658478e+08\n",
       "50%       367.000000    2406.500000       4.000000  1.110422e+09\n",
       "75%       520.000000    5418.000000       4.000000  1.296192e+09\n",
       "max       671.000000  163949.000000       5.000000  1.476641e+09"
      ]
     },
     "execution_count": 69,
     "metadata": {},
     "output_type": "execute_result"
    }
   ],
   "source": [
    "ratings.describe()"
   ]
  },
  {
   "cell_type": "markdown",
   "metadata": {},
   "source": [
    "* The data seem OK !"
   ]
  },
  {
   "cell_type": "code",
   "execution_count": 52,
   "metadata": {
    "_cell_guid": "0356d2a0-d8b2-4234-af78-bd51eaa3a390",
    "_uuid": "e0d62612bc9b9e9561afdc48fd1e75a9b0c82337"
   },
   "outputs": [
    {
     "name": "stdout",
     "output_type": "stream",
     "text": [
      "Evaluating RMSE, MAE of algorithm SVD on 10 split(s).\n",
      "\n",
      "                  Fold 1  Fold 2  Fold 3  Fold 4  Fold 5  Fold 6  Fold 7  Fold 8  Fold 9  Fold 10 Mean    Std     \n",
      "RMSE (testset)    0.8903  0.8872  0.9017  0.8976  0.8851  0.8948  0.8942  0.8981  0.8999  0.8817  0.8931  0.0064  \n",
      "MAE (testset)     0.6850  0.6825  0.6950  0.6905  0.6812  0.6872  0.6867  0.6912  0.6938  0.6789  0.6872  0.0051  \n",
      "Fit time          5.33    5.40    5.86    5.48    5.62    5.50    5.38    5.41    5.50    5.44    5.49    0.15    \n",
      "Test time         0.07    0.07    0.08    0.07    0.09    0.19    0.07    0.13    0.08    0.12    0.10    0.04    \n"
     ]
    },
    {
     "data": {
      "text/plain": [
       "{'test_rmse': array([0.89033037, 0.88721131, 0.90166726, 0.89757537, 0.88507642,\n",
       "        0.89484201, 0.89419808, 0.89814205, 0.89989092, 0.8817161 ]),\n",
       " 'test_mae': array([0.68498511, 0.68249329, 0.69497896, 0.6905423 , 0.68124366,\n",
       "        0.68715458, 0.68670905, 0.69115397, 0.69380814, 0.67887323]),\n",
       " 'fit_time': (5.332747220993042,\n",
       "  5.397272825241089,\n",
       "  5.864047527313232,\n",
       "  5.475974798202515,\n",
       "  5.622844934463501,\n",
       "  5.502814292907715,\n",
       "  5.38006067276001,\n",
       "  5.41113805770874,\n",
       "  5.503418922424316,\n",
       "  5.436424970626831),\n",
       " 'test_time': (0.07189559936523438,\n",
       "  0.07032608985900879,\n",
       "  0.07537055015563965,\n",
       "  0.06665873527526855,\n",
       "  0.08669495582580566,\n",
       "  0.1870861053466797,\n",
       "  0.06791830062866211,\n",
       "  0.1251087188720703,\n",
       "  0.0785529613494873,\n",
       "  0.12360572814941406)}"
      ]
     },
     "execution_count": 52,
     "metadata": {},
     "output_type": "execute_result"
    }
   ],
   "source": [
    "# Use the famous SVD algorithm\n",
    "algo = SVD()\n",
    "\n",
    "# Run 10-fold cross-validation and then print results\n",
    "cross_validate(algo, data, measures=['RMSE', 'MAE'], cv=10, verbose=True)"
   ]
  },
  {
   "cell_type": "markdown",
   "metadata": {
    "_cell_guid": "0ac7021a-9174-48bd-a1ca-5ab227409963",
    "_uuid": "6f3d3cd411dc437a28ddbd184e77d9229bf224a2"
   },
   "source": [
    "We get a **MSE** of 0.8817161 - not so bad. \n",
    "\n",
    "Let us now train on our dataset and arrive at predictions."
   ]
  },
  {
   "cell_type": "code",
   "execution_count": 53,
   "metadata": {
    "_cell_guid": "b39199fa-a02c-4509-852d-85020b36424d",
    "_uuid": "b588afd2750b0ba0793b953edac8c366222f8500"
   },
   "outputs": [
    {
     "data": {
      "text/plain": [
       "<surprise.prediction_algorithms.matrix_factorization.SVD at 0x7fbe4d46ec18>"
      ]
     },
     "execution_count": 53,
     "metadata": {},
     "output_type": "execute_result"
    }
   ],
   "source": [
    "trainset = data.build_full_trainset()\n",
    "algo.fit(trainset)"
   ]
  },
  {
   "cell_type": "markdown",
   "metadata": {
    "_cell_guid": "9d6653dc-7ad4-4c78-9c50-bbfe988b4397",
    "_uuid": "f9fc5344c7545c16539aa0966f62b59be1761f34"
   },
   "source": [
    "# Does it work?\n",
    "Checking user 333 and check the ratings s/he has given."
   ]
  },
  {
   "cell_type": "code",
   "execution_count": 54,
   "metadata": {
    "_cell_guid": "b57dd617-c9aa-4928-a7de-c6b7036cc07b",
    "_uuid": "2307233c3213417079c46fcfaaf2638ef1f0059f"
   },
   "outputs": [
    {
     "data": {
      "text/html": [
       "<div>\n",
       "<style scoped>\n",
       "    .dataframe tbody tr th:only-of-type {\n",
       "        vertical-align: middle;\n",
       "    }\n",
       "\n",
       "    .dataframe tbody tr th {\n",
       "        vertical-align: top;\n",
       "    }\n",
       "\n",
       "    .dataframe thead th {\n",
       "        text-align: right;\n",
       "    }\n",
       "</style>\n",
       "<table border=\"1\" class=\"dataframe\">\n",
       "  <thead>\n",
       "    <tr style=\"text-align: right;\">\n",
       "      <th></th>\n",
       "      <th>userId</th>\n",
       "      <th>movieId</th>\n",
       "      <th>rating</th>\n",
       "      <th>timestamp</th>\n",
       "    </tr>\n",
       "  </thead>\n",
       "  <tbody>\n",
       "    <tr>\n",
       "      <th>46068</th>\n",
       "      <td>333</td>\n",
       "      <td>1</td>\n",
       "      <td>4.0</td>\n",
       "      <td>1441197471</td>\n",
       "    </tr>\n",
       "    <tr>\n",
       "      <th>46069</th>\n",
       "      <td>333</td>\n",
       "      <td>318</td>\n",
       "      <td>5.0</td>\n",
       "      <td>1441197184</td>\n",
       "    </tr>\n",
       "    <tr>\n",
       "      <th>46070</th>\n",
       "      <td>333</td>\n",
       "      <td>356</td>\n",
       "      <td>4.5</td>\n",
       "      <td>1441197368</td>\n",
       "    </tr>\n",
       "    <tr>\n",
       "      <th>46071</th>\n",
       "      <td>333</td>\n",
       "      <td>527</td>\n",
       "      <td>5.0</td>\n",
       "      <td>1441197187</td>\n",
       "    </tr>\n",
       "    <tr>\n",
       "      <th>46072</th>\n",
       "      <td>333</td>\n",
       "      <td>588</td>\n",
       "      <td>3.5</td>\n",
       "      <td>1441198986</td>\n",
       "    </tr>\n",
       "    <tr>\n",
       "      <th>...</th>\n",
       "      <td>...</td>\n",
       "      <td>...</td>\n",
       "      <td>...</td>\n",
       "      <td>...</td>\n",
       "    </tr>\n",
       "    <tr>\n",
       "      <th>46144</th>\n",
       "      <td>333</td>\n",
       "      <td>105844</td>\n",
       "      <td>3.5</td>\n",
       "      <td>1441198673</td>\n",
       "    </tr>\n",
       "    <tr>\n",
       "      <th>46145</th>\n",
       "      <td>333</td>\n",
       "      <td>109487</td>\n",
       "      <td>4.5</td>\n",
       "      <td>1441197391</td>\n",
       "    </tr>\n",
       "    <tr>\n",
       "      <th>46146</th>\n",
       "      <td>333</td>\n",
       "      <td>116797</td>\n",
       "      <td>5.0</td>\n",
       "      <td>1441197436</td>\n",
       "    </tr>\n",
       "    <tr>\n",
       "      <th>46147</th>\n",
       "      <td>333</td>\n",
       "      <td>117176</td>\n",
       "      <td>4.0</td>\n",
       "      <td>1441197950</td>\n",
       "    </tr>\n",
       "    <tr>\n",
       "      <th>46148</th>\n",
       "      <td>333</td>\n",
       "      <td>141668</td>\n",
       "      <td>5.0</td>\n",
       "      <td>1441198482</td>\n",
       "    </tr>\n",
       "  </tbody>\n",
       "</table>\n",
       "<p>81 rows × 4 columns</p>\n",
       "</div>"
      ],
      "text/plain": [
       "       userId  movieId  rating   timestamp\n",
       "46068     333        1     4.0  1441197471\n",
       "46069     333      318     5.0  1441197184\n",
       "46070     333      356     4.5  1441197368\n",
       "46071     333      527     5.0  1441197187\n",
       "46072     333      588     3.5  1441198986\n",
       "...       ...      ...     ...         ...\n",
       "46144     333   105844     3.5  1441198673\n",
       "46145     333   109487     4.5  1441197391\n",
       "46146     333   116797     5.0  1441197436\n",
       "46147     333   117176     4.0  1441197950\n",
       "46148     333   141668     5.0  1441198482\n",
       "\n",
       "[81 rows x 4 columns]"
      ]
     },
     "execution_count": 54,
     "metadata": {},
     "output_type": "execute_result"
    }
   ],
   "source": [
    "ratings[ratings['userId'] == 333]"
   ]
  },
  {
   "cell_type": "code",
   "execution_count": 84,
   "metadata": {
    "_cell_guid": "e0701e4b-dde1-4791-b96e-faa4ae40df8e",
    "_uuid": "9c22aa0cc39595a4414d227a284f92b382eab67a"
   },
   "outputs": [
    {
     "data": {
      "text/plain": [
       "4.787334371802595"
      ]
     },
     "execution_count": 84,
     "metadata": {},
     "output_type": "execute_result"
    }
   ],
   "source": [
    "algo.predict(333, 318, 3).est # rating for user 333 on movie 318"
   ]
  },
  {
   "cell_type": "markdown",
   "metadata": {},
   "source": [
    "# Let's compare on this user\n",
    "\n",
    "We should find something that matches the ratings the user has provided."
   ]
  },
  {
   "cell_type": "code",
   "execution_count": 83,
   "metadata": {},
   "outputs": [
    {
     "name": "stderr",
     "output_type": "stream",
     "text": [
      "/home/kelu/.local/lib/python3.6/site-packages/ipykernel_launcher.py:2: SettingWithCopyWarning: \n",
      "A value is trying to be set on a copy of a slice from a DataFrame.\n",
      "Try using .loc[row_indexer,col_indexer] = value instead\n",
      "\n",
      "See the caveats in the documentation: https://pandas.pydata.org/pandas-docs/stable/user_guide/indexing.html#returning-a-view-versus-a-copy\n",
      "  \n"
     ]
    },
    {
     "data": {
      "text/html": [
       "<div>\n",
       "<style scoped>\n",
       "    .dataframe tbody tr th:only-of-type {\n",
       "        vertical-align: middle;\n",
       "    }\n",
       "\n",
       "    .dataframe tbody tr th {\n",
       "        vertical-align: top;\n",
       "    }\n",
       "\n",
       "    .dataframe thead th {\n",
       "        text-align: right;\n",
       "    }\n",
       "</style>\n",
       "<table border=\"1\" class=\"dataframe\">\n",
       "  <thead>\n",
       "    <tr style=\"text-align: right;\">\n",
       "      <th></th>\n",
       "      <th>userId</th>\n",
       "      <th>movieId</th>\n",
       "      <th>rating</th>\n",
       "      <th>timestamp</th>\n",
       "      <th>estimated</th>\n",
       "    </tr>\n",
       "  </thead>\n",
       "  <tbody>\n",
       "    <tr>\n",
       "      <th>46068</th>\n",
       "      <td>333</td>\n",
       "      <td>1</td>\n",
       "      <td>4.0</td>\n",
       "      <td>1441197471</td>\n",
       "      <td>4.151951</td>\n",
       "    </tr>\n",
       "    <tr>\n",
       "      <th>46069</th>\n",
       "      <td>333</td>\n",
       "      <td>318</td>\n",
       "      <td>5.0</td>\n",
       "      <td>1441197184</td>\n",
       "      <td>4.787334</td>\n",
       "    </tr>\n",
       "    <tr>\n",
       "      <th>46070</th>\n",
       "      <td>333</td>\n",
       "      <td>356</td>\n",
       "      <td>4.5</td>\n",
       "      <td>1441197368</td>\n",
       "      <td>4.338452</td>\n",
       "    </tr>\n",
       "    <tr>\n",
       "      <th>46071</th>\n",
       "      <td>333</td>\n",
       "      <td>527</td>\n",
       "      <td>5.0</td>\n",
       "      <td>1441197187</td>\n",
       "      <td>4.564067</td>\n",
       "    </tr>\n",
       "    <tr>\n",
       "      <th>46072</th>\n",
       "      <td>333</td>\n",
       "      <td>588</td>\n",
       "      <td>3.5</td>\n",
       "      <td>1441198986</td>\n",
       "      <td>4.088364</td>\n",
       "    </tr>\n",
       "    <tr>\n",
       "      <th>...</th>\n",
       "      <td>...</td>\n",
       "      <td>...</td>\n",
       "      <td>...</td>\n",
       "      <td>...</td>\n",
       "      <td>...</td>\n",
       "    </tr>\n",
       "    <tr>\n",
       "      <th>46144</th>\n",
       "      <td>333</td>\n",
       "      <td>105844</td>\n",
       "      <td>3.5</td>\n",
       "      <td>1441198673</td>\n",
       "      <td>4.229592</td>\n",
       "    </tr>\n",
       "    <tr>\n",
       "      <th>46145</th>\n",
       "      <td>333</td>\n",
       "      <td>109487</td>\n",
       "      <td>4.5</td>\n",
       "      <td>1441197391</td>\n",
       "      <td>4.545094</td>\n",
       "    </tr>\n",
       "    <tr>\n",
       "      <th>46146</th>\n",
       "      <td>333</td>\n",
       "      <td>116797</td>\n",
       "      <td>5.0</td>\n",
       "      <td>1441197436</td>\n",
       "      <td>4.868722</td>\n",
       "    </tr>\n",
       "    <tr>\n",
       "      <th>46147</th>\n",
       "      <td>333</td>\n",
       "      <td>117176</td>\n",
       "      <td>4.0</td>\n",
       "      <td>1441197950</td>\n",
       "      <td>4.379123</td>\n",
       "    </tr>\n",
       "    <tr>\n",
       "      <th>46148</th>\n",
       "      <td>333</td>\n",
       "      <td>141668</td>\n",
       "      <td>5.0</td>\n",
       "      <td>1441198482</td>\n",
       "      <td>4.242667</td>\n",
       "    </tr>\n",
       "  </tbody>\n",
       "</table>\n",
       "<p>81 rows × 5 columns</p>\n",
       "</div>"
      ],
      "text/plain": [
       "       userId  movieId  rating   timestamp  estimated\n",
       "46068     333        1     4.0  1441197471   4.151951\n",
       "46069     333      318     5.0  1441197184   4.787334\n",
       "46070     333      356     4.5  1441197368   4.338452\n",
       "46071     333      527     5.0  1441197187   4.564067\n",
       "46072     333      588     3.5  1441198986   4.088364\n",
       "...       ...      ...     ...         ...        ...\n",
       "46144     333   105844     3.5  1441198673   4.229592\n",
       "46145     333   109487     4.5  1441197391   4.545094\n",
       "46146     333   116797     5.0  1441197436   4.868722\n",
       "46147     333   117176     4.0  1441197950   4.379123\n",
       "46148     333   141668     5.0  1441198482   4.242667\n",
       "\n",
       "[81 rows x 5 columns]"
      ]
     },
     "execution_count": 83,
     "metadata": {},
     "output_type": "execute_result"
    }
   ],
   "source": [
    "User333 =  ratings[ratings['userId'] == 333]\n",
    "User333[\"estimated\"] = User333.movieId.apply(lambda x: algo.predict(333, x, 3).est) \n",
    "User333"
   ]
  },
  {
   "cell_type": "markdown",
   "metadata": {},
   "source": [
    "* Looks not too bad!"
   ]
  },
  {
   "cell_type": "markdown",
   "metadata": {},
   "source": [
    "# Generalisation"
   ]
  },
  {
   "cell_type": "code",
   "execution_count": 66,
   "metadata": {},
   "outputs": [],
   "source": [
    "md.movieId = md.movieId.astype('int64',errors=\"ignore\")\n",
    "def BestForUser(ID):\n",
    "    BestGuessesUserOne = ratings[['userId', 'movieId', 'rating']].drop_duplicates(subset=['movieId'])\n",
    "    BestGuessesUserOne[\"NewScore\"] = BestGuessesUserOne.movieId.apply(lambda x: algo.predict(ID, x, 3).est)\n",
    "    #BestGuessesUserOne = BestGuessesUserOne[~BestGuessesUserOne[\"userId\"] == ID]\n",
    "    md.movieId = BestGuessesUserOne.movieId.astype('int64',errors=\"ignore\")\n",
    "    RES = BestGuessesUserOne.sort_values(by=['NewScore'],ascending = False)[:10].merge(md,on=\"movieId\")\n",
    "    return RES"
   ]
  },
  {
   "cell_type": "markdown",
   "metadata": {},
   "source": [
    "# Let's get favorite movies for User no 10"
   ]
  },
  {
   "cell_type": "markdown",
   "metadata": {},
   "source": [
    "* Let's check that the system does what it set out to do. "
   ]
  },
  {
   "cell_type": "code",
   "execution_count": 82,
   "metadata": {},
   "outputs": [
    {
     "data": {
      "text/html": [
       "<div>\n",
       "<style scoped>\n",
       "    .dataframe tbody tr th:only-of-type {\n",
       "        vertical-align: middle;\n",
       "    }\n",
       "\n",
       "    .dataframe tbody tr th {\n",
       "        vertical-align: top;\n",
       "    }\n",
       "\n",
       "    .dataframe thead th {\n",
       "        text-align: right;\n",
       "    }\n",
       "</style>\n",
       "<table border=\"1\" class=\"dataframe\">\n",
       "  <thead>\n",
       "    <tr style=\"text-align: right;\">\n",
       "      <th></th>\n",
       "      <th>userId</th>\n",
       "      <th>movieId</th>\n",
       "      <th>rating</th>\n",
       "      <th>NewScore</th>\n",
       "      <th>imdb_id</th>\n",
       "      <th>title</th>\n",
       "    </tr>\n",
       "  </thead>\n",
       "  <tbody>\n",
       "    <tr>\n",
       "      <th>0</th>\n",
       "      <td>4</td>\n",
       "      <td>858</td>\n",
       "      <td>5.0</td>\n",
       "      <td>4.851819</td>\n",
       "      <td>tt0110604</td>\n",
       "      <td>Mute Witness</td>\n",
       "    </tr>\n",
       "    <tr>\n",
       "      <th>1</th>\n",
       "      <td>15</td>\n",
       "      <td>1252</td>\n",
       "      <td>5.0</td>\n",
       "      <td>4.774213</td>\n",
       "      <td>tt0032455</td>\n",
       "      <td>Fantasia</td>\n",
       "    </tr>\n",
       "    <tr>\n",
       "      <th>2</th>\n",
       "      <td>5</td>\n",
       "      <td>1221</td>\n",
       "      <td>2.5</td>\n",
       "      <td>4.736326</td>\n",
       "      <td>tt0111693</td>\n",
       "      <td>When a Man Loves a Woman</td>\n",
       "    </tr>\n",
       "    <tr>\n",
       "      <th>3</th>\n",
       "      <td>19</td>\n",
       "      <td>969</td>\n",
       "      <td>5.0</td>\n",
       "      <td>4.717092</td>\n",
       "      <td>tt0099871</td>\n",
       "      <td>Jacob's Ladder</td>\n",
       "    </tr>\n",
       "    <tr>\n",
       "      <th>4</th>\n",
       "      <td>2</td>\n",
       "      <td>527</td>\n",
       "      <td>4.0</td>\n",
       "      <td>4.686256</td>\n",
       "      <td>tt0112445</td>\n",
       "      <td>The White Balloon</td>\n",
       "    </tr>\n",
       "    <tr>\n",
       "      <th>5</th>\n",
       "      <td>2</td>\n",
       "      <td>50</td>\n",
       "      <td>4.0</td>\n",
       "      <td>4.656696</td>\n",
       "      <td>tt0113627</td>\n",
       "      <td>Leaving Las Vegas</td>\n",
       "    </tr>\n",
       "    <tr>\n",
       "      <th>6</th>\n",
       "      <td>4</td>\n",
       "      <td>913</td>\n",
       "      <td>5.0</td>\n",
       "      <td>4.638657</td>\n",
       "      <td>tt0113986</td>\n",
       "      <td>Nine Months</td>\n",
       "    </tr>\n",
       "    <tr>\n",
       "      <th>7</th>\n",
       "      <td>3</td>\n",
       "      <td>7361</td>\n",
       "      <td>3.0</td>\n",
       "      <td>4.628540</td>\n",
       "      <td>tt0118055</td>\n",
       "      <td>Up Close &amp; Personal</td>\n",
       "    </tr>\n",
       "    <tr>\n",
       "      <th>8</th>\n",
       "      <td>15</td>\n",
       "      <td>912</td>\n",
       "      <td>5.0</td>\n",
       "      <td>4.611156</td>\n",
       "      <td>tt0101026</td>\n",
       "      <td>Tie Me Up! Tie Me Down!</td>\n",
       "    </tr>\n",
       "    <tr>\n",
       "      <th>9</th>\n",
       "      <td>2</td>\n",
       "      <td>296</td>\n",
       "      <td>4.0</td>\n",
       "      <td>4.600558</td>\n",
       "      <td>tt0114814</td>\n",
       "      <td>The Usual Suspects</td>\n",
       "    </tr>\n",
       "  </tbody>\n",
       "</table>\n",
       "</div>"
      ],
      "text/plain": [
       "   userId  movieId  rating  NewScore    imdb_id                     title\n",
       "0       4      858     5.0  4.851819  tt0110604              Mute Witness\n",
       "1      15     1252     5.0  4.774213  tt0032455                  Fantasia\n",
       "2       5     1221     2.5  4.736326  tt0111693  When a Man Loves a Woman\n",
       "3      19      969     5.0  4.717092  tt0099871            Jacob's Ladder\n",
       "4       2      527     4.0  4.686256  tt0112445         The White Balloon\n",
       "5       2       50     4.0  4.656696  tt0113627         Leaving Las Vegas\n",
       "6       4      913     5.0  4.638657  tt0113986               Nine Months\n",
       "7       3     7361     3.0  4.628540  tt0118055       Up Close & Personal\n",
       "8      15      912     5.0  4.611156  tt0101026   Tie Me Up! Tie Me Down!\n",
       "9       2      296     4.0  4.600558  tt0114814        The Usual Suspects"
      ]
     },
     "execution_count": 82,
     "metadata": {},
     "output_type": "execute_result"
    }
   ],
   "source": [
    "BestForUser(10)"
   ]
  },
  {
   "cell_type": "markdown",
   "metadata": {},
   "source": [
    "* Recommendations are quite close to expected results."
   ]
  },
  {
   "cell_type": "code",
   "execution_count": null,
   "metadata": {},
   "outputs": [],
   "source": []
  }
 ],
 "metadata": {
  "kernelspec": {
   "display_name": "Python 3",
   "language": "python",
   "name": "python3"
  },
  "language_info": {
   "codemirror_mode": {
    "name": "ipython",
    "version": 3
   },
   "file_extension": ".py",
   "mimetype": "text/x-python",
   "name": "python",
   "nbconvert_exporter": "python",
   "pygments_lexer": "ipython3",
   "version": "3.6.9"
  }
 },
 "nbformat": 4,
 "nbformat_minor": 1
}
