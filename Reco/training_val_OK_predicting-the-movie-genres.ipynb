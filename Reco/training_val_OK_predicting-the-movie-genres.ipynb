{
 "cells": [
  {
   "cell_type": "markdown",
   "metadata": {
    "papermill": {
     "duration": 0.03728,
     "end_time": "2021-02-08T14:35:55.094106",
     "exception": false,
     "start_time": "2021-02-08T14:35:55.056826",
     "status": "completed"
    },
    "tags": []
   },
   "source": [
    "# <center>Predicting the movie genres</center>\n",
    "___\n",
    "\n",
    "## Abstract\n",
    "> From a long time, movies have been an amazing source of entertainment. It has given a chance for family members to enjoy together, for friends to socialize and for artists to display their talents, be it an actor/actress, directors, cinematographer, dialogue writers and so on. Movies have been a visual art that focuses on storytelling, communicating ideas, stimulate different experiences(like romance, anger, travel, etc.)\n",
    "\n",
    "> In the initial years of filming, films were recorded on a celluloid film through a photochemical process. Since movies are nothing but continuous series of pictures, there were no possibility to include sounds with the moving frames. As humans progressed, learned new techniques to record and display movies, we transitioned to large movie projectors. This gave us a chance to include sound to our motion-pictures. And in no time, we transioned to the era of digital cameras which eased the efforts or recording a movie along with the sound. \n",
    "\n",
    "> I have been a fan of movies, as it gave me an opportunity to look at the world in a broader perspective. I am not a detective, but Sherlock Holmes enlightened me to the world of detectives. I am not a stockbroker, but The Wolf Of Wall Street gave me deep insights to what it takes to be a one. I have never learned or studied mythology, but The Ramayana educated me with it's prolonged history and it's importance.\n",
    "___\n",
    "\n",
    "## Introduction\n",
    "#### 1. Problem Statement\n",
    "> Movies have a range of genres; from romance to sci-fi to drama to comedy and so on. In this notebook, I will try to **predict the genres** of the movies based on _title, tagline, original_title_ and _overview_. With us, we have a dataset of about 45000 movies with metadata collected from IMDB and complied on Kaggle (https://www.kaggle.com/rounakbanik/the-movies-dataset).\n",
    "\n",
    "#### 2. Key Documents\n",
    ">  Out of the 7 documents, as directed, we would only use **movies_metadata.csv**.\n",
    "\n",
    "#### 3. Breakdown of this notebook\n",
    "  > 1. Importing Libraries\n",
    "  2. Loading the dataset\n",
    "  3. Remove/filling the NaN values from the datasets.\n",
    "  4. Cleaning the dataset\n",
    "  6. Classification Analysis:\n",
    "    1. Decision Tree Classifier\n",
    "    2. Random Forest Classifier\n",
    "    3. Multi-layer Perceptron (MLP) Classifier"
   ]
  },
  {
   "cell_type": "code",
   "execution_count": 1,
   "metadata": {
    "_cell_guid": "b1076dfc-b9ad-4769-8c92-a6c4dae69d19",
    "_uuid": "8f2839f25d086af736a60e9eeb907d3b93b6e0e5",
    "execution": {
     "iopub.execute_input": "2021-02-08T14:35:55.173993Z",
     "iopub.status.busy": "2021-02-08T14:35:55.173273Z",
     "iopub.status.idle": "2021-02-08T14:35:55.187785Z",
     "shell.execute_reply": "2021-02-08T14:35:55.186589Z"
    },
    "papermill": {
     "duration": 0.05614,
     "end_time": "2021-02-08T14:35:55.188099",
     "exception": false,
     "start_time": "2021-02-08T14:35:55.131959",
     "status": "completed"
    },
    "tags": []
   },
   "outputs": [
    {
     "name": "stdout",
     "output_type": "stream",
     "text": [
      "/kaggle/input/the-movies-dataset/ratings.csv\n",
      "/kaggle/input/the-movies-dataset/links_small.csv\n",
      "/kaggle/input/the-movies-dataset/credits.csv\n",
      "/kaggle/input/the-movies-dataset/keywords.csv\n",
      "/kaggle/input/the-movies-dataset/movies_metadata.csv\n",
      "/kaggle/input/the-movies-dataset/ratings_small.csv\n",
      "/kaggle/input/the-movies-dataset/links.csv\n"
     ]
    }
   ],
   "source": [
    "\n",
    "import os\n",
    "for dirname, _, filenames in os.walk('/kaggle/input'):\n",
    "    for filename in filenames:\n",
    "        print(os.path.join(dirname, filename))"
   ]
  },
  {
   "cell_type": "code",
   "execution_count": 2,
   "metadata": {
    "execution": {
     "iopub.execute_input": "2021-02-08T14:35:55.267303Z",
     "iopub.status.busy": "2021-02-08T14:35:55.266266Z",
     "iopub.status.idle": "2021-02-08T14:35:55.270030Z",
     "shell.execute_reply": "2021-02-08T14:35:55.269331Z"
    },
    "papermill": {
     "duration": 0.04487,
     "end_time": "2021-02-08T14:35:55.270201",
     "exception": false,
     "start_time": "2021-02-08T14:35:55.225331",
     "status": "completed"
    },
    "tags": []
   },
   "outputs": [],
   "source": [
    "# Importing the required libraries\n",
    "import numpy as np\n",
    "import pandas as pd"
   ]
  },
  {
   "cell_type": "code",
   "execution_count": 3,
   "metadata": {
    "execution": {
     "iopub.execute_input": "2021-02-08T14:35:55.349697Z",
     "iopub.status.busy": "2021-02-08T14:35:55.349040Z",
     "iopub.status.idle": "2021-02-08T14:35:56.712666Z",
     "shell.execute_reply": "2021-02-08T14:35:56.713239Z"
    },
    "papermill": {
     "duration": 1.405934,
     "end_time": "2021-02-08T14:35:56.713424",
     "exception": false,
     "start_time": "2021-02-08T14:35:55.307490",
     "status": "completed"
    },
    "tags": []
   },
   "outputs": [
    {
     "name": "stderr",
     "output_type": "stream",
     "text": [
      "/opt/conda/lib/python3.7/site-packages/IPython/core/interactiveshell.py:3147: DtypeWarning: Columns (10) have mixed types.Specify dtype option on import or set low_memory=False.\n",
      "  interactivity=interactivity, compiler=compiler, result=result)\n"
     ]
    }
   ],
   "source": [
    "# Importing the metadata of movies\n",
    "df1 = pd.read_csv('/kaggle/input/the-movies-dataset/movies_metadata.csv')"
   ]
  },
  {
   "cell_type": "code",
   "execution_count": 4,
   "metadata": {
    "execution": {
     "iopub.execute_input": "2021-02-08T14:35:56.809122Z",
     "iopub.status.busy": "2021-02-08T14:35:56.808433Z",
     "iopub.status.idle": "2021-02-08T14:35:56.841592Z",
     "shell.execute_reply": "2021-02-08T14:35:56.842143Z"
    },
    "papermill": {
     "duration": 0.09253,
     "end_time": "2021-02-08T14:35:56.842332",
     "exception": false,
     "start_time": "2021-02-08T14:35:56.749802",
     "status": "completed"
    },
    "scrolled": true,
    "tags": []
   },
   "outputs": [
    {
     "data": {
      "text/html": [
       "<div>\n",
       "<style scoped>\n",
       "    .dataframe tbody tr th:only-of-type {\n",
       "        vertical-align: middle;\n",
       "    }\n",
       "\n",
       "    .dataframe tbody tr th {\n",
       "        vertical-align: top;\n",
       "    }\n",
       "\n",
       "    .dataframe thead th {\n",
       "        text-align: right;\n",
       "    }\n",
       "</style>\n",
       "<table border=\"1\" class=\"dataframe\">\n",
       "  <thead>\n",
       "    <tr style=\"text-align: right;\">\n",
       "      <th></th>\n",
       "      <th>adult</th>\n",
       "      <th>belongs_to_collection</th>\n",
       "      <th>budget</th>\n",
       "      <th>genres</th>\n",
       "      <th>homepage</th>\n",
       "      <th>id</th>\n",
       "      <th>imdb_id</th>\n",
       "      <th>original_language</th>\n",
       "      <th>original_title</th>\n",
       "      <th>overview</th>\n",
       "      <th>...</th>\n",
       "      <th>release_date</th>\n",
       "      <th>revenue</th>\n",
       "      <th>runtime</th>\n",
       "      <th>spoken_languages</th>\n",
       "      <th>status</th>\n",
       "      <th>tagline</th>\n",
       "      <th>title</th>\n",
       "      <th>video</th>\n",
       "      <th>vote_average</th>\n",
       "      <th>vote_count</th>\n",
       "    </tr>\n",
       "  </thead>\n",
       "  <tbody>\n",
       "    <tr>\n",
       "      <th>0</th>\n",
       "      <td>False</td>\n",
       "      <td>{'id': 10194, 'name': 'Toy Story Collection', ...</td>\n",
       "      <td>30000000</td>\n",
       "      <td>[{'id': 16, 'name': 'Animation'}, {'id': 35, '...</td>\n",
       "      <td>http://toystory.disney.com/toy-story</td>\n",
       "      <td>862</td>\n",
       "      <td>tt0114709</td>\n",
       "      <td>en</td>\n",
       "      <td>Toy Story</td>\n",
       "      <td>Led by Woody, Andy's toys live happily in his ...</td>\n",
       "      <td>...</td>\n",
       "      <td>1995-10-30</td>\n",
       "      <td>373554033.0</td>\n",
       "      <td>81.0</td>\n",
       "      <td>[{'iso_639_1': 'en', 'name': 'English'}]</td>\n",
       "      <td>Released</td>\n",
       "      <td>NaN</td>\n",
       "      <td>Toy Story</td>\n",
       "      <td>False</td>\n",
       "      <td>7.7</td>\n",
       "      <td>5415.0</td>\n",
       "    </tr>\n",
       "    <tr>\n",
       "      <th>1</th>\n",
       "      <td>False</td>\n",
       "      <td>NaN</td>\n",
       "      <td>65000000</td>\n",
       "      <td>[{'id': 12, 'name': 'Adventure'}, {'id': 14, '...</td>\n",
       "      <td>NaN</td>\n",
       "      <td>8844</td>\n",
       "      <td>tt0113497</td>\n",
       "      <td>en</td>\n",
       "      <td>Jumanji</td>\n",
       "      <td>When siblings Judy and Peter discover an encha...</td>\n",
       "      <td>...</td>\n",
       "      <td>1995-12-15</td>\n",
       "      <td>262797249.0</td>\n",
       "      <td>104.0</td>\n",
       "      <td>[{'iso_639_1': 'en', 'name': 'English'}, {'iso...</td>\n",
       "      <td>Released</td>\n",
       "      <td>Roll the dice and unleash the excitement!</td>\n",
       "      <td>Jumanji</td>\n",
       "      <td>False</td>\n",
       "      <td>6.9</td>\n",
       "      <td>2413.0</td>\n",
       "    </tr>\n",
       "    <tr>\n",
       "      <th>2</th>\n",
       "      <td>False</td>\n",
       "      <td>{'id': 119050, 'name': 'Grumpy Old Men Collect...</td>\n",
       "      <td>0</td>\n",
       "      <td>[{'id': 10749, 'name': 'Romance'}, {'id': 35, ...</td>\n",
       "      <td>NaN</td>\n",
       "      <td>15602</td>\n",
       "      <td>tt0113228</td>\n",
       "      <td>en</td>\n",
       "      <td>Grumpier Old Men</td>\n",
       "      <td>A family wedding reignites the ancient feud be...</td>\n",
       "      <td>...</td>\n",
       "      <td>1995-12-22</td>\n",
       "      <td>0.0</td>\n",
       "      <td>101.0</td>\n",
       "      <td>[{'iso_639_1': 'en', 'name': 'English'}]</td>\n",
       "      <td>Released</td>\n",
       "      <td>Still Yelling. Still Fighting. Still Ready for...</td>\n",
       "      <td>Grumpier Old Men</td>\n",
       "      <td>False</td>\n",
       "      <td>6.5</td>\n",
       "      <td>92.0</td>\n",
       "    </tr>\n",
       "    <tr>\n",
       "      <th>3</th>\n",
       "      <td>False</td>\n",
       "      <td>NaN</td>\n",
       "      <td>16000000</td>\n",
       "      <td>[{'id': 35, 'name': 'Comedy'}, {'id': 18, 'nam...</td>\n",
       "      <td>NaN</td>\n",
       "      <td>31357</td>\n",
       "      <td>tt0114885</td>\n",
       "      <td>en</td>\n",
       "      <td>Waiting to Exhale</td>\n",
       "      <td>Cheated on, mistreated and stepped on, the wom...</td>\n",
       "      <td>...</td>\n",
       "      <td>1995-12-22</td>\n",
       "      <td>81452156.0</td>\n",
       "      <td>127.0</td>\n",
       "      <td>[{'iso_639_1': 'en', 'name': 'English'}]</td>\n",
       "      <td>Released</td>\n",
       "      <td>Friends are the people who let you be yourself...</td>\n",
       "      <td>Waiting to Exhale</td>\n",
       "      <td>False</td>\n",
       "      <td>6.1</td>\n",
       "      <td>34.0</td>\n",
       "    </tr>\n",
       "    <tr>\n",
       "      <th>4</th>\n",
       "      <td>False</td>\n",
       "      <td>{'id': 96871, 'name': 'Father of the Bride Col...</td>\n",
       "      <td>0</td>\n",
       "      <td>[{'id': 35, 'name': 'Comedy'}]</td>\n",
       "      <td>NaN</td>\n",
       "      <td>11862</td>\n",
       "      <td>tt0113041</td>\n",
       "      <td>en</td>\n",
       "      <td>Father of the Bride Part II</td>\n",
       "      <td>Just when George Banks has recovered from his ...</td>\n",
       "      <td>...</td>\n",
       "      <td>1995-02-10</td>\n",
       "      <td>76578911.0</td>\n",
       "      <td>106.0</td>\n",
       "      <td>[{'iso_639_1': 'en', 'name': 'English'}]</td>\n",
       "      <td>Released</td>\n",
       "      <td>Just When His World Is Back To Normal... He's ...</td>\n",
       "      <td>Father of the Bride Part II</td>\n",
       "      <td>False</td>\n",
       "      <td>5.7</td>\n",
       "      <td>173.0</td>\n",
       "    </tr>\n",
       "  </tbody>\n",
       "</table>\n",
       "<p>5 rows × 24 columns</p>\n",
       "</div>"
      ],
      "text/plain": [
       "   adult                              belongs_to_collection    budget  \\\n",
       "0  False  {'id': 10194, 'name': 'Toy Story Collection', ...  30000000   \n",
       "1  False                                                NaN  65000000   \n",
       "2  False  {'id': 119050, 'name': 'Grumpy Old Men Collect...         0   \n",
       "3  False                                                NaN  16000000   \n",
       "4  False  {'id': 96871, 'name': 'Father of the Bride Col...         0   \n",
       "\n",
       "                                              genres  \\\n",
       "0  [{'id': 16, 'name': 'Animation'}, {'id': 35, '...   \n",
       "1  [{'id': 12, 'name': 'Adventure'}, {'id': 14, '...   \n",
       "2  [{'id': 10749, 'name': 'Romance'}, {'id': 35, ...   \n",
       "3  [{'id': 35, 'name': 'Comedy'}, {'id': 18, 'nam...   \n",
       "4                     [{'id': 35, 'name': 'Comedy'}]   \n",
       "\n",
       "                               homepage     id    imdb_id original_language  \\\n",
       "0  http://toystory.disney.com/toy-story    862  tt0114709                en   \n",
       "1                                   NaN   8844  tt0113497                en   \n",
       "2                                   NaN  15602  tt0113228                en   \n",
       "3                                   NaN  31357  tt0114885                en   \n",
       "4                                   NaN  11862  tt0113041                en   \n",
       "\n",
       "                original_title  \\\n",
       "0                    Toy Story   \n",
       "1                      Jumanji   \n",
       "2             Grumpier Old Men   \n",
       "3            Waiting to Exhale   \n",
       "4  Father of the Bride Part II   \n",
       "\n",
       "                                            overview  ... release_date  \\\n",
       "0  Led by Woody, Andy's toys live happily in his ...  ...   1995-10-30   \n",
       "1  When siblings Judy and Peter discover an encha...  ...   1995-12-15   \n",
       "2  A family wedding reignites the ancient feud be...  ...   1995-12-22   \n",
       "3  Cheated on, mistreated and stepped on, the wom...  ...   1995-12-22   \n",
       "4  Just when George Banks has recovered from his ...  ...   1995-02-10   \n",
       "\n",
       "       revenue runtime                                   spoken_languages  \\\n",
       "0  373554033.0    81.0           [{'iso_639_1': 'en', 'name': 'English'}]   \n",
       "1  262797249.0   104.0  [{'iso_639_1': 'en', 'name': 'English'}, {'iso...   \n",
       "2          0.0   101.0           [{'iso_639_1': 'en', 'name': 'English'}]   \n",
       "3   81452156.0   127.0           [{'iso_639_1': 'en', 'name': 'English'}]   \n",
       "4   76578911.0   106.0           [{'iso_639_1': 'en', 'name': 'English'}]   \n",
       "\n",
       "     status                                            tagline  \\\n",
       "0  Released                                                NaN   \n",
       "1  Released          Roll the dice and unleash the excitement!   \n",
       "2  Released  Still Yelling. Still Fighting. Still Ready for...   \n",
       "3  Released  Friends are the people who let you be yourself...   \n",
       "4  Released  Just When His World Is Back To Normal... He's ...   \n",
       "\n",
       "                         title  video vote_average vote_count  \n",
       "0                    Toy Story  False          7.7     5415.0  \n",
       "1                      Jumanji  False          6.9     2413.0  \n",
       "2             Grumpier Old Men  False          6.5       92.0  \n",
       "3            Waiting to Exhale  False          6.1       34.0  \n",
       "4  Father of the Bride Part II  False          5.7      173.0  \n",
       "\n",
       "[5 rows x 24 columns]"
      ]
     },
     "execution_count": 4,
     "metadata": {},
     "output_type": "execute_result"
    }
   ],
   "source": [
    "df1.head()"
   ]
  },
  {
   "cell_type": "markdown",
   "metadata": {
    "papermill": {
     "duration": 0.036975,
     "end_time": "2021-02-08T14:35:56.917392",
     "exception": false,
     "start_time": "2021-02-08T14:35:56.880417",
     "status": "completed"
    },
    "tags": []
   },
   "source": [
    "<div class=\"alert alert-block alert-info\"><b> \n",
    "    \n",
    "- According to the problem statement, we need only the following columns:\n",
    "    1. title, \n",
    "    2. tagline\n",
    "    3. original_title\n",
    "    4. overview \n",
    "    5. genres\n",
    "    \n",
    "  Hence, we subset these columns into a new dataframe.\n",
    "</b></div>"
   ]
  },
  {
   "cell_type": "code",
   "execution_count": 5,
   "metadata": {
    "execution": {
     "iopub.execute_input": "2021-02-08T14:35:56.997961Z",
     "iopub.status.busy": "2021-02-08T14:35:56.997264Z",
     "iopub.status.idle": "2021-02-08T14:35:57.003209Z",
     "shell.execute_reply": "2021-02-08T14:35:57.002503Z"
    },
    "papermill": {
     "duration": 0.048595,
     "end_time": "2021-02-08T14:35:57.003358",
     "exception": false,
     "start_time": "2021-02-08T14:35:56.954763",
     "status": "completed"
    },
    "tags": []
   },
   "outputs": [],
   "source": [
    "df = df1[['title', 'tagline', 'original_title', 'overview', 'genres']]"
   ]
  },
  {
   "cell_type": "code",
   "execution_count": 6,
   "metadata": {
    "execution": {
     "iopub.execute_input": "2021-02-08T14:35:57.081298Z",
     "iopub.status.busy": "2021-02-08T14:35:57.080628Z",
     "iopub.status.idle": "2021-02-08T14:35:57.091148Z",
     "shell.execute_reply": "2021-02-08T14:35:57.091690Z"
    },
    "papermill": {
     "duration": 0.051317,
     "end_time": "2021-02-08T14:35:57.091890",
     "exception": false,
     "start_time": "2021-02-08T14:35:57.040573",
     "status": "completed"
    },
    "tags": []
   },
   "outputs": [],
   "source": [
    "# Setting `title` as the index\n",
    "df.set_index('title',inplace = True)"
   ]
  },
  {
   "cell_type": "code",
   "execution_count": 7,
   "metadata": {
    "execution": {
     "iopub.execute_input": "2021-02-08T14:35:57.171759Z",
     "iopub.status.busy": "2021-02-08T14:35:57.171105Z",
     "iopub.status.idle": "2021-02-08T14:35:57.197810Z",
     "shell.execute_reply": "2021-02-08T14:35:57.198293Z"
    },
    "papermill": {
     "duration": 0.067441,
     "end_time": "2021-02-08T14:35:57.198481",
     "exception": false,
     "start_time": "2021-02-08T14:35:57.131040",
     "status": "completed"
    },
    "tags": []
   },
   "outputs": [
    {
     "data": {
      "text/plain": [
       "tagline           25054\n",
       "original_title        0\n",
       "overview            954\n",
       "genres                0\n",
       "dtype: int64"
      ]
     },
     "execution_count": 7,
     "metadata": {},
     "output_type": "execute_result"
    }
   ],
   "source": [
    "df.isna().sum()"
   ]
  },
  {
   "cell_type": "markdown",
   "metadata": {
    "papermill": {
     "duration": 0.037337,
     "end_time": "2021-02-08T14:35:57.274484",
     "exception": false,
     "start_time": "2021-02-08T14:35:57.237147",
     "status": "completed"
    },
    "tags": []
   },
   "source": [
    "The genre(s) of any movie can be identified by its reviews or description. Here, we have a feature `overview` and we  will use this to predict the genre(s) of the movies.\n",
    "\n",
    "Hence, if for any instance there is *no overview present*, we shall *drop* that partcular instance(s)."
   ]
  },
  {
   "cell_type": "code",
   "execution_count": 8,
   "metadata": {
    "execution": {
     "iopub.execute_input": "2021-02-08T14:35:57.364299Z",
     "iopub.status.busy": "2021-02-08T14:35:57.352995Z",
     "iopub.status.idle": "2021-02-08T14:35:57.396241Z",
     "shell.execute_reply": "2021-02-08T14:35:57.396809Z"
    },
    "papermill": {
     "duration": 0.084435,
     "end_time": "2021-02-08T14:35:57.397006",
     "exception": false,
     "start_time": "2021-02-08T14:35:57.312571",
     "status": "completed"
    },
    "tags": []
   },
   "outputs": [
    {
     "name": "stderr",
     "output_type": "stream",
     "text": [
      "/opt/conda/lib/python3.7/site-packages/ipykernel_launcher.py:1: SettingWithCopyWarning: \n",
      "A value is trying to be set on a copy of a slice from a DataFrame\n",
      "\n",
      "See the caveats in the documentation: https://pandas.pydata.org/pandas-docs/stable/user_guide/indexing.html#returning-a-view-versus-a-copy\n",
      "  \"\"\"Entry point for launching an IPython kernel.\n"
     ]
    }
   ],
   "source": [
    "df.dropna(subset = ['overview'], inplace = True)"
   ]
  },
  {
   "cell_type": "markdown",
   "metadata": {
    "papermill": {
     "duration": 0.037704,
     "end_time": "2021-02-08T14:35:57.473520",
     "exception": false,
     "start_time": "2021-02-08T14:35:57.435816",
     "status": "completed"
    },
    "tags": []
   },
   "source": [
    "Ref: https://kite.com/python/answers/how-to-drop-empty-rows-from-a-pandas-dataframe-in-python"
   ]
  },
  {
   "cell_type": "markdown",
   "metadata": {
    "papermill": {
     "duration": 0.048338,
     "end_time": "2021-02-08T14:35:57.562582",
     "exception": false,
     "start_time": "2021-02-08T14:35:57.514244",
     "status": "completed"
    },
    "tags": []
   },
   "source": [
    "## Step 1: Extracting the `genres` of each film(row) present in the list of dictionery/ies under the **key** `name`."
   ]
  },
  {
   "cell_type": "code",
   "execution_count": 9,
   "metadata": {
    "execution": {
     "iopub.execute_input": "2021-02-08T14:35:57.660497Z",
     "iopub.status.busy": "2021-02-08T14:35:57.659826Z",
     "iopub.status.idle": "2021-02-08T14:35:59.203555Z",
     "shell.execute_reply": "2021-02-08T14:35:59.204138Z"
    },
    "papermill": {
     "duration": 1.593681,
     "end_time": "2021-02-08T14:35:59.204321",
     "exception": false,
     "start_time": "2021-02-08T14:35:57.610640",
     "status": "completed"
    },
    "scrolled": true,
    "tags": []
   },
   "outputs": [
    {
     "name": "stderr",
     "output_type": "stream",
     "text": [
      "/opt/conda/lib/python3.7/site-packages/ipykernel_launcher.py:2: SettingWithCopyWarning: \n",
      "A value is trying to be set on a copy of a slice from a DataFrame.\n",
      "Try using .loc[row_indexer,col_indexer] = value instead\n",
      "\n",
      "See the caveats in the documentation: https://pandas.pydata.org/pandas-docs/stable/user_guide/indexing.html#returning-a-view-versus-a-copy\n",
      "  \n"
     ]
    }
   ],
   "source": [
    "from ast import literal_eval\n",
    "df['genres'] = df['genres'].apply(literal_eval).apply(lambda x: [i['name'] for i in x] \n",
    "                                                                   if isinstance(x, list) else [])\n",
    "                                                                # List Comprehension"
   ]
  },
  {
   "cell_type": "markdown",
   "metadata": {
    "papermill": {
     "duration": 0.039959,
     "end_time": "2021-02-08T14:35:59.283079",
     "exception": false,
     "start_time": "2021-02-08T14:35:59.243120",
     "status": "completed"
    },
    "tags": []
   },
   "source": [
    "Ref: https://www.kaggle.com/rounakbanik/movie-recommender-systems, In [3]"
   ]
  },
  {
   "cell_type": "markdown",
   "metadata": {
    "papermill": {
     "duration": 0.03868,
     "end_time": "2021-02-08T14:35:59.360374",
     "exception": false,
     "start_time": "2021-02-08T14:35:59.321694",
     "status": "completed"
    },
    "tags": []
   },
   "source": [
    "The purpose of the following code is to *excluded* any such instances where the genres absent or is '[ ]'."
   ]
  },
  {
   "cell_type": "code",
   "execution_count": 10,
   "metadata": {
    "execution": {
     "iopub.execute_input": "2021-02-08T14:35:59.450867Z",
     "iopub.status.busy": "2021-02-08T14:35:59.450005Z",
     "iopub.status.idle": "2021-02-08T14:35:59.456085Z",
     "shell.execute_reply": "2021-02-08T14:35:59.455541Z"
    },
    "papermill": {
     "duration": 0.057025,
     "end_time": "2021-02-08T14:35:59.456238",
     "exception": false,
     "start_time": "2021-02-08T14:35:59.399213",
     "status": "completed"
    },
    "tags": []
   },
   "outputs": [],
   "source": [
    "# Selecting only those rows which have an actual genre\n",
    "genre_present = df['genres'] != '[]'\n",
    "\n",
    "# Series of the genres present in the movies_metadata\n",
    "genres = df['genres'][genre_present]"
   ]
  },
  {
   "cell_type": "markdown",
   "metadata": {
    "papermill": {
     "duration": 0.038317,
     "end_time": "2021-02-08T14:35:59.533410",
     "exception": false,
     "start_time": "2021-02-08T14:35:59.495093",
     "status": "completed"
    },
    "tags": []
   },
   "source": [
    "## Step 2: Separating and selecting the genres"
   ]
  },
  {
   "cell_type": "code",
   "execution_count": 11,
   "metadata": {
    "execution": {
     "iopub.execute_input": "2021-02-08T14:35:59.618153Z",
     "iopub.status.busy": "2021-02-08T14:35:59.617475Z",
     "iopub.status.idle": "2021-02-08T14:36:00.661124Z",
     "shell.execute_reply": "2021-02-08T14:36:00.659992Z"
    },
    "papermill": {
     "duration": 1.087816,
     "end_time": "2021-02-08T14:36:00.661295",
     "exception": false,
     "start_time": "2021-02-08T14:35:59.573479",
     "status": "completed"
    },
    "tags": []
   },
   "outputs": [],
   "source": [
    "from sklearn.preprocessing import MultiLabelBinarizer\n",
    "mlb = MultiLabelBinarizer()\n",
    "\n",
    "labels = mlb.fit_transform(genres)\n",
    "label_classes = mlb.classes_"
   ]
  },
  {
   "cell_type": "markdown",
   "metadata": {
    "papermill": {
     "duration": 0.039357,
     "end_time": "2021-02-08T14:36:00.740604",
     "exception": false,
     "start_time": "2021-02-08T14:36:00.701247",
     "status": "completed"
    },
    "tags": []
   },
   "source": [
    "Ref: https://datascience.stackexchange.com/questions/11797/split-a-list-of-values-into-columns-of-a-dataframe"
   ]
  },
  {
   "cell_type": "code",
   "execution_count": 12,
   "metadata": {
    "execution": {
     "iopub.execute_input": "2021-02-08T14:36:00.824900Z",
     "iopub.status.busy": "2021-02-08T14:36:00.824217Z",
     "iopub.status.idle": "2021-02-08T14:36:00.827171Z",
     "shell.execute_reply": "2021-02-08T14:36:00.827858Z"
    },
    "papermill": {
     "duration": 0.04757,
     "end_time": "2021-02-08T14:36:00.828061",
     "exception": false,
     "start_time": "2021-02-08T14:36:00.780491",
     "status": "completed"
    },
    "tags": []
   },
   "outputs": [
    {
     "data": {
      "text/plain": [
       "array(['Action', 'Adventure', 'Animation', 'Aniplex', 'BROSTA TV',\n",
       "       'Carousel Productions', 'Comedy', 'Crime', 'Documentary', 'Drama',\n",
       "       'Family', 'Fantasy', 'Foreign', 'GoHands', 'History', 'Horror',\n",
       "       'Mardock Scramble Production Committee', 'Music', 'Mystery',\n",
       "       'Odyssey Media', 'Pulser Productions', 'Rogue State', 'Romance',\n",
       "       'Science Fiction', 'Sentai Filmworks', 'TV Movie',\n",
       "       'Telescene Film Group Productions', 'The Cartel', 'Thriller',\n",
       "       'Vision View Entertainment', 'War', 'Western'], dtype=object)"
      ]
     },
     "execution_count": 12,
     "metadata": {},
     "output_type": "execute_result"
    }
   ],
   "source": [
    "label_classes"
   ]
  },
  {
   "cell_type": "code",
   "execution_count": 13,
   "metadata": {
    "execution": {
     "iopub.execute_input": "2021-02-08T14:36:00.911060Z",
     "iopub.status.busy": "2021-02-08T14:36:00.910425Z",
     "iopub.status.idle": "2021-02-08T14:36:00.915886Z",
     "shell.execute_reply": "2021-02-08T14:36:00.915215Z"
    },
    "papermill": {
     "duration": 0.048086,
     "end_time": "2021-02-08T14:36:00.916044",
     "exception": false,
     "start_time": "2021-02-08T14:36:00.867958",
     "status": "completed"
    },
    "tags": []
   },
   "outputs": [],
   "source": [
    "label_data = pd.DataFrame(labels, columns=label_classes)"
   ]
  },
  {
   "cell_type": "code",
   "execution_count": 14,
   "metadata": {
    "execution": {
     "iopub.execute_input": "2021-02-08T14:36:00.999568Z",
     "iopub.status.busy": "2021-02-08T14:36:00.998853Z",
     "iopub.status.idle": "2021-02-08T14:36:01.087058Z",
     "shell.execute_reply": "2021-02-08T14:36:01.086441Z"
    },
    "papermill": {
     "duration": 0.130673,
     "end_time": "2021-02-08T14:36:01.087208",
     "exception": false,
     "start_time": "2021-02-08T14:36:00.956535",
     "status": "completed"
    },
    "scrolled": false,
    "tags": []
   },
   "outputs": [],
   "source": [
    "val = {}\n",
    "for x in label_classes :\n",
    "    val.update({x:label_data[x].value_counts()[1]})"
   ]
  },
  {
   "cell_type": "markdown",
   "metadata": {
    "papermill": {
     "duration": 0.039358,
     "end_time": "2021-02-08T14:36:01.166192",
     "exception": false,
     "start_time": "2021-02-08T14:36:01.126834",
     "status": "completed"
    },
    "tags": []
   },
   "source": [
    "Sorting the `genres` according to the number of instances in *ascending* order."
   ]
  },
  {
   "cell_type": "code",
   "execution_count": 15,
   "metadata": {
    "execution": {
     "iopub.execute_input": "2021-02-08T14:36:01.251177Z",
     "iopub.status.busy": "2021-02-08T14:36:01.250168Z",
     "iopub.status.idle": "2021-02-08T14:36:01.253274Z",
     "shell.execute_reply": "2021-02-08T14:36:01.252609Z"
    },
    "papermill": {
     "duration": 0.047805,
     "end_time": "2021-02-08T14:36:01.253422",
     "exception": false,
     "start_time": "2021-02-08T14:36:01.205617",
     "status": "completed"
    },
    "tags": []
   },
   "outputs": [],
   "source": [
    "sorted_val = sorted(val.items(), key=lambda kv: kv[1], reverse=True)"
   ]
  },
  {
   "cell_type": "markdown",
   "metadata": {
    "papermill": {
     "duration": 0.040381,
     "end_time": "2021-02-08T14:36:01.334567",
     "exception": false,
     "start_time": "2021-02-08T14:36:01.294186",
     "status": "completed"
    },
    "tags": []
   },
   "source": [
    "Ref: https://stackoverflow.com/questions/613183/how-do-i-sort-a-dictionary-by-value"
   ]
  },
  {
   "cell_type": "code",
   "execution_count": 16,
   "metadata": {
    "execution": {
     "iopub.execute_input": "2021-02-08T14:36:01.420963Z",
     "iopub.status.busy": "2021-02-08T14:36:01.420292Z",
     "iopub.status.idle": "2021-02-08T14:36:01.422928Z",
     "shell.execute_reply": "2021-02-08T14:36:01.423386Z"
    },
    "papermill": {
     "duration": 0.049184,
     "end_time": "2021-02-08T14:36:01.423585",
     "exception": false,
     "start_time": "2021-02-08T14:36:01.374401",
     "status": "completed"
    },
    "tags": []
   },
   "outputs": [],
   "source": [
    "val_pd = pd.DataFrame.from_dict(sorted_val, orient='columns')\n",
    "val_pd.rename(columns={0: \"Genre\", 1: \"Count\"}, inplace = True) "
   ]
  },
  {
   "cell_type": "code",
   "execution_count": 17,
   "metadata": {
    "execution": {
     "iopub.execute_input": "2021-02-08T14:36:01.506737Z",
     "iopub.status.busy": "2021-02-08T14:36:01.506091Z",
     "iopub.status.idle": "2021-02-08T14:36:01.518469Z",
     "shell.execute_reply": "2021-02-08T14:36:01.519109Z"
    },
    "papermill": {
     "duration": 0.05585,
     "end_time": "2021-02-08T14:36:01.519303",
     "exception": false,
     "start_time": "2021-02-08T14:36:01.463453",
     "status": "completed"
    },
    "tags": []
   },
   "outputs": [
    {
     "data": {
      "text/html": [
       "<div>\n",
       "<style scoped>\n",
       "    .dataframe tbody tr th:only-of-type {\n",
       "        vertical-align: middle;\n",
       "    }\n",
       "\n",
       "    .dataframe tbody tr th {\n",
       "        vertical-align: top;\n",
       "    }\n",
       "\n",
       "    .dataframe thead th {\n",
       "        text-align: right;\n",
       "    }\n",
       "</style>\n",
       "<table border=\"1\" class=\"dataframe\">\n",
       "  <thead>\n",
       "    <tr style=\"text-align: right;\">\n",
       "      <th></th>\n",
       "      <th>Genre</th>\n",
       "      <th>Count</th>\n",
       "    </tr>\n",
       "  </thead>\n",
       "  <tbody>\n",
       "    <tr>\n",
       "      <th>0</th>\n",
       "      <td>Drama</td>\n",
       "      <td>20023</td>\n",
       "    </tr>\n",
       "    <tr>\n",
       "      <th>1</th>\n",
       "      <td>Comedy</td>\n",
       "      <td>12806</td>\n",
       "    </tr>\n",
       "    <tr>\n",
       "      <th>2</th>\n",
       "      <td>Thriller</td>\n",
       "      <td>7586</td>\n",
       "    </tr>\n",
       "    <tr>\n",
       "      <th>3</th>\n",
       "      <td>Romance</td>\n",
       "      <td>6673</td>\n",
       "    </tr>\n",
       "    <tr>\n",
       "      <th>4</th>\n",
       "      <td>Action</td>\n",
       "      <td>6565</td>\n",
       "    </tr>\n",
       "    <tr>\n",
       "      <th>5</th>\n",
       "      <td>Horror</td>\n",
       "      <td>4660</td>\n",
       "    </tr>\n",
       "    <tr>\n",
       "      <th>6</th>\n",
       "      <td>Crime</td>\n",
       "      <td>4269</td>\n",
       "    </tr>\n",
       "    <tr>\n",
       "      <th>7</th>\n",
       "      <td>Documentary</td>\n",
       "      <td>3886</td>\n",
       "    </tr>\n",
       "    <tr>\n",
       "      <th>8</th>\n",
       "      <td>Adventure</td>\n",
       "      <td>3470</td>\n",
       "    </tr>\n",
       "    <tr>\n",
       "      <th>9</th>\n",
       "      <td>Science Fiction</td>\n",
       "      <td>3028</td>\n",
       "    </tr>\n",
       "    <tr>\n",
       "      <th>10</th>\n",
       "      <td>Family</td>\n",
       "      <td>2732</td>\n",
       "    </tr>\n",
       "    <tr>\n",
       "      <th>11</th>\n",
       "      <td>Mystery</td>\n",
       "      <td>2451</td>\n",
       "    </tr>\n",
       "    <tr>\n",
       "      <th>12</th>\n",
       "      <td>Fantasy</td>\n",
       "      <td>2290</td>\n",
       "    </tr>\n",
       "    <tr>\n",
       "      <th>13</th>\n",
       "      <td>Animation</td>\n",
       "      <td>1920</td>\n",
       "    </tr>\n",
       "    <tr>\n",
       "      <th>14</th>\n",
       "      <td>Foreign</td>\n",
       "      <td>1599</td>\n",
       "    </tr>\n",
       "    <tr>\n",
       "      <th>15</th>\n",
       "      <td>Music</td>\n",
       "      <td>1588</td>\n",
       "    </tr>\n",
       "    <tr>\n",
       "      <th>16</th>\n",
       "      <td>History</td>\n",
       "      <td>1379</td>\n",
       "    </tr>\n",
       "    <tr>\n",
       "      <th>17</th>\n",
       "      <td>War</td>\n",
       "      <td>1310</td>\n",
       "    </tr>\n",
       "    <tr>\n",
       "      <th>18</th>\n",
       "      <td>Western</td>\n",
       "      <td>1035</td>\n",
       "    </tr>\n",
       "    <tr>\n",
       "      <th>19</th>\n",
       "      <td>TV Movie</td>\n",
       "      <td>751</td>\n",
       "    </tr>\n",
       "    <tr>\n",
       "      <th>20</th>\n",
       "      <td>Aniplex</td>\n",
       "      <td>1</td>\n",
       "    </tr>\n",
       "    <tr>\n",
       "      <th>21</th>\n",
       "      <td>BROSTA TV</td>\n",
       "      <td>1</td>\n",
       "    </tr>\n",
       "    <tr>\n",
       "      <th>22</th>\n",
       "      <td>Carousel Productions</td>\n",
       "      <td>1</td>\n",
       "    </tr>\n",
       "    <tr>\n",
       "      <th>23</th>\n",
       "      <td>GoHands</td>\n",
       "      <td>1</td>\n",
       "    </tr>\n",
       "    <tr>\n",
       "      <th>24</th>\n",
       "      <td>Mardock Scramble Production Committee</td>\n",
       "      <td>1</td>\n",
       "    </tr>\n",
       "    <tr>\n",
       "      <th>25</th>\n",
       "      <td>Odyssey Media</td>\n",
       "      <td>1</td>\n",
       "    </tr>\n",
       "    <tr>\n",
       "      <th>26</th>\n",
       "      <td>Pulser Productions</td>\n",
       "      <td>1</td>\n",
       "    </tr>\n",
       "    <tr>\n",
       "      <th>27</th>\n",
       "      <td>Rogue State</td>\n",
       "      <td>1</td>\n",
       "    </tr>\n",
       "    <tr>\n",
       "      <th>28</th>\n",
       "      <td>Sentai Filmworks</td>\n",
       "      <td>1</td>\n",
       "    </tr>\n",
       "    <tr>\n",
       "      <th>29</th>\n",
       "      <td>Telescene Film Group Productions</td>\n",
       "      <td>1</td>\n",
       "    </tr>\n",
       "    <tr>\n",
       "      <th>30</th>\n",
       "      <td>The Cartel</td>\n",
       "      <td>1</td>\n",
       "    </tr>\n",
       "    <tr>\n",
       "      <th>31</th>\n",
       "      <td>Vision View Entertainment</td>\n",
       "      <td>1</td>\n",
       "    </tr>\n",
       "  </tbody>\n",
       "</table>\n",
       "</div>"
      ],
      "text/plain": [
       "                                    Genre  Count\n",
       "0                                   Drama  20023\n",
       "1                                  Comedy  12806\n",
       "2                                Thriller   7586\n",
       "3                                 Romance   6673\n",
       "4                                  Action   6565\n",
       "5                                  Horror   4660\n",
       "6                                   Crime   4269\n",
       "7                             Documentary   3886\n",
       "8                               Adventure   3470\n",
       "9                         Science Fiction   3028\n",
       "10                                 Family   2732\n",
       "11                                Mystery   2451\n",
       "12                                Fantasy   2290\n",
       "13                              Animation   1920\n",
       "14                                Foreign   1599\n",
       "15                                  Music   1588\n",
       "16                                History   1379\n",
       "17                                    War   1310\n",
       "18                                Western   1035\n",
       "19                               TV Movie    751\n",
       "20                                Aniplex      1\n",
       "21                              BROSTA TV      1\n",
       "22                   Carousel Productions      1\n",
       "23                                GoHands      1\n",
       "24  Mardock Scramble Production Committee      1\n",
       "25                          Odyssey Media      1\n",
       "26                     Pulser Productions      1\n",
       "27                            Rogue State      1\n",
       "28                       Sentai Filmworks      1\n",
       "29       Telescene Film Group Productions      1\n",
       "30                             The Cartel      1\n",
       "31              Vision View Entertainment      1"
      ]
     },
     "execution_count": 17,
     "metadata": {},
     "output_type": "execute_result"
    }
   ],
   "source": [
    "val_pd"
   ]
  },
  {
   "cell_type": "markdown",
   "metadata": {
    "papermill": {
     "duration": 0.04159,
     "end_time": "2021-02-08T14:36:01.601752",
     "exception": false,
     "start_time": "2021-02-08T14:36:01.560162",
     "status": "completed"
    },
    "tags": []
   },
   "source": [
    "When we look at those rows, we notice that the `genres` with value count 1 do not seem to be genres. They seem to be names of production houses or TV channels.\n",
    "\n",
    "Hence we would drop these rows to reduce our search space.\n",
    "___\n",
    "\n",
    "Conversely, we can select the top 20 `genres` from the above data frame for prediction which contain the actual genres."
   ]
  },
  {
   "cell_type": "code",
   "execution_count": 18,
   "metadata": {
    "execution": {
     "iopub.execute_input": "2021-02-08T14:36:01.685899Z",
     "iopub.status.busy": "2021-02-08T14:36:01.685176Z",
     "iopub.status.idle": "2021-02-08T14:36:01.692678Z",
     "shell.execute_reply": "2021-02-08T14:36:01.693301Z"
    },
    "papermill": {
     "duration": 0.051314,
     "end_time": "2021-02-08T14:36:01.693471",
     "exception": false,
     "start_time": "2021-02-08T14:36:01.642157",
     "status": "completed"
    },
    "tags": []
   },
   "outputs": [
    {
     "data": {
      "text/plain": [
       "[('Drama', 20023),\n",
       " ('Comedy', 12806),\n",
       " ('Thriller', 7586),\n",
       " ('Romance', 6673),\n",
       " ('Action', 6565),\n",
       " ('Horror', 4660),\n",
       " ('Crime', 4269),\n",
       " ('Documentary', 3886),\n",
       " ('Adventure', 3470),\n",
       " ('Science Fiction', 3028),\n",
       " ('Family', 2732),\n",
       " ('Mystery', 2451),\n",
       " ('Fantasy', 2290),\n",
       " ('Animation', 1920),\n",
       " ('Foreign', 1599),\n",
       " ('Music', 1588),\n",
       " ('History', 1379),\n",
       " ('War', 1310),\n",
       " ('Western', 1035),\n",
       " ('TV Movie', 751)]"
      ]
     },
     "execution_count": 18,
     "metadata": {},
     "output_type": "execute_result"
    }
   ],
   "source": [
    "dummy_counts = sorted(val.items(), key=lambda kv: kv[1], reverse=True)[0:20] # Selecting the first 20 genres.\n",
    "dummy_counts"
   ]
  },
  {
   "cell_type": "markdown",
   "metadata": {
    "papermill": {
     "duration": 0.041494,
     "end_time": "2021-02-08T14:36:01.776003",
     "exception": false,
     "start_time": "2021-02-08T14:36:01.734509",
     "status": "completed"
    },
    "tags": []
   },
   "source": [
    "Here, we select only the first top 20 genres from a list of tuples."
   ]
  },
  {
   "cell_type": "code",
   "execution_count": 19,
   "metadata": {
    "execution": {
     "iopub.execute_input": "2021-02-08T14:36:01.863149Z",
     "iopub.status.busy": "2021-02-08T14:36:01.862435Z",
     "iopub.status.idle": "2021-02-08T14:36:01.867576Z",
     "shell.execute_reply": "2021-02-08T14:36:01.866942Z"
    },
    "papermill": {
     "duration": 0.049893,
     "end_time": "2021-02-08T14:36:01.867718",
     "exception": false,
     "start_time": "2021-02-08T14:36:01.817825",
     "status": "completed"
    },
    "tags": []
   },
   "outputs": [],
   "source": [
    "# List Comprehension\n",
    "genre_counts = [i[0] for i in dummy_counts]"
   ]
  },
  {
   "cell_type": "code",
   "execution_count": 20,
   "metadata": {
    "execution": {
     "iopub.execute_input": "2021-02-08T14:36:01.954376Z",
     "iopub.status.busy": "2021-02-08T14:36:01.953517Z",
     "iopub.status.idle": "2021-02-08T14:36:01.959054Z",
     "shell.execute_reply": "2021-02-08T14:36:01.959901Z"
    },
    "papermill": {
     "duration": 0.050926,
     "end_time": "2021-02-08T14:36:01.960106",
     "exception": false,
     "start_time": "2021-02-08T14:36:01.909180",
     "status": "completed"
    },
    "tags": []
   },
   "outputs": [
    {
     "data": {
      "text/plain": [
       "['Drama',\n",
       " 'Comedy',\n",
       " 'Thriller',\n",
       " 'Romance',\n",
       " 'Action',\n",
       " 'Horror',\n",
       " 'Crime',\n",
       " 'Documentary',\n",
       " 'Adventure',\n",
       " 'Science Fiction',\n",
       " 'Family',\n",
       " 'Mystery',\n",
       " 'Fantasy',\n",
       " 'Animation',\n",
       " 'Foreign',\n",
       " 'Music',\n",
       " 'History',\n",
       " 'War',\n",
       " 'Western',\n",
       " 'TV Movie']"
      ]
     },
     "execution_count": 20,
     "metadata": {},
     "output_type": "execute_result"
    }
   ],
   "source": [
    "genre_counts"
   ]
  },
  {
   "cell_type": "markdown",
   "metadata": {
    "papermill": {
     "duration": 0.042027,
     "end_time": "2021-02-08T14:36:02.048846",
     "exception": false,
     "start_time": "2021-02-08T14:36:02.006819",
     "status": "completed"
    },
    "tags": []
   },
   "source": [
    "On filtering the actual list of genres, we can now proceed for further processing.\n",
    "___\n",
    "Binarizing the selected genres."
   ]
  },
  {
   "cell_type": "code",
   "execution_count": 21,
   "metadata": {
    "execution": {
     "iopub.execute_input": "2021-02-08T14:36:02.136457Z",
     "iopub.status.busy": "2021-02-08T14:36:02.135784Z",
     "iopub.status.idle": "2021-02-08T14:36:02.139737Z",
     "shell.execute_reply": "2021-02-08T14:36:02.140301Z"
    },
    "papermill": {
     "duration": 0.049567,
     "end_time": "2021-02-08T14:36:02.140484",
     "exception": false,
     "start_time": "2021-02-08T14:36:02.090917",
     "status": "completed"
    },
    "tags": []
   },
   "outputs": [],
   "source": [
    "final_genres = MultiLabelBinarizer(classes = genre_counts) \n",
    "# 'genre_counts' is the final list of genres that will be used for futher training ot model\n",
    "\n",
    "top = final_genres.fit(genres)"
   ]
  },
  {
   "cell_type": "code",
   "execution_count": 22,
   "metadata": {
    "execution": {
     "iopub.execute_input": "2021-02-08T14:36:02.228263Z",
     "iopub.status.busy": "2021-02-08T14:36:02.227451Z",
     "iopub.status.idle": "2021-02-08T14:36:02.311012Z",
     "shell.execute_reply": "2021-02-08T14:36:02.312210Z"
    },
    "papermill": {
     "duration": 0.129852,
     "end_time": "2021-02-08T14:36:02.312466",
     "exception": false,
     "start_time": "2021-02-08T14:36:02.182614",
     "status": "completed"
    },
    "scrolled": true,
    "tags": []
   },
   "outputs": [
    {
     "name": "stderr",
     "output_type": "stream",
     "text": [
      "/opt/conda/lib/python3.7/site-packages/sklearn/preprocessing/_label.py:995: UserWarning: unknown class(es) ['Aniplex', 'BROSTA TV', 'Carousel Productions', 'GoHands', 'Mardock Scramble Production Committee', 'Odyssey Media', 'Pulser Productions', 'Rogue State', 'Sentai Filmworks', 'Telescene Film Group Productions', 'The Cartel', 'Vision View Entertainment'] will be ignored\n",
      "  .format(sorted(unknown, key=str)))\n"
     ]
    }
   ],
   "source": [
    "# Dependent Variable\n",
    "y = final_genres.transform(genres)"
   ]
  },
  {
   "cell_type": "code",
   "execution_count": 23,
   "metadata": {
    "execution": {
     "iopub.execute_input": "2021-02-08T14:36:02.404001Z",
     "iopub.status.busy": "2021-02-08T14:36:02.403100Z",
     "iopub.status.idle": "2021-02-08T14:36:02.406875Z",
     "shell.execute_reply": "2021-02-08T14:36:02.407481Z"
    },
    "papermill": {
     "duration": 0.052018,
     "end_time": "2021-02-08T14:36:02.407650",
     "exception": false,
     "start_time": "2021-02-08T14:36:02.355632",
     "status": "completed"
    },
    "scrolled": false,
    "tags": []
   },
   "outputs": [
    {
     "data": {
      "text/plain": [
       "array(['Drama', 'Comedy', 'Thriller', 'Romance', 'Action', 'Horror',\n",
       "       'Crime', 'Documentary', 'Adventure', 'Science Fiction', 'Family',\n",
       "       'Mystery', 'Fantasy', 'Animation', 'Foreign', 'Music', 'History',\n",
       "       'War', 'Western', 'TV Movie'], dtype=object)"
      ]
     },
     "execution_count": 23,
     "metadata": {},
     "output_type": "execute_result"
    }
   ],
   "source": [
    "final_genres.classes_"
   ]
  },
  {
   "cell_type": "markdown",
   "metadata": {
    "papermill": {
     "duration": 0.042975,
     "end_time": "2021-02-08T14:36:02.494247",
     "exception": false,
     "start_time": "2021-02-08T14:36:02.451272",
     "status": "completed"
    },
    "tags": []
   },
   "source": [
    "<div class=\"alert alert-block alert-info\"><b> \n",
    "    \n",
    "- The genres excluded in the genre_counts will be ignored while implementing MultiLabelBinarizer.\n",
    "  \n",
    "</b></div>"
   ]
  },
  {
   "cell_type": "markdown",
   "metadata": {
    "papermill": {
     "duration": 0.042891,
     "end_time": "2021-02-08T14:36:02.580208",
     "exception": false,
     "start_time": "2021-02-08T14:36:02.537317",
     "status": "completed"
    },
    "tags": []
   },
   "source": [
    "As discussed earlier, the genre(s) of any movie can be identified by its reviews or description. Here, we have a feature `overview` and we  will use this to predict the genre(s) of the movies."
   ]
  },
  {
   "cell_type": "markdown",
   "metadata": {
    "papermill": {
     "duration": 0.042745,
     "end_time": "2021-02-08T14:36:02.665975",
     "exception": false,
     "start_time": "2021-02-08T14:36:02.623230",
     "status": "completed"
    },
    "tags": []
   },
   "source": [
    "## Step 3: Separaring the independent variable"
   ]
  },
  {
   "cell_type": "code",
   "execution_count": 24,
   "metadata": {
    "execution": {
     "iopub.execute_input": "2021-02-08T14:36:02.756580Z",
     "iopub.status.busy": "2021-02-08T14:36:02.755508Z",
     "iopub.status.idle": "2021-02-08T14:36:02.759737Z",
     "shell.execute_reply": "2021-02-08T14:36:02.760233Z"
    },
    "papermill": {
     "duration": 0.051679,
     "end_time": "2021-02-08T14:36:02.760409",
     "exception": false,
     "start_time": "2021-02-08T14:36:02.708730",
     "status": "completed"
    },
    "tags": []
   },
   "outputs": [],
   "source": [
    "# Independent Variable\n",
    "X = df['overview']"
   ]
  },
  {
   "cell_type": "markdown",
   "metadata": {
    "papermill": {
     "duration": 0.042598,
     "end_time": "2021-02-08T14:36:02.847490",
     "exception": false,
     "start_time": "2021-02-08T14:36:02.804892",
     "status": "completed"
    },
    "tags": []
   },
   "source": [
    "**ATTENSION**\n",
    "\n",
    "If we have a review present but there is no genre present, this would mistrain our predictive model. Therefore for training, we would include only those rows which contains actual genres and not '[ ]'\n",
    "\n",
    "One of the simplest ways to perform this action is to check the sum of each row in the genres after executing the MultiLabelBinarizer. If the sum equals 0, this proves that the particular movie has no genres mentioned . Hence, we would not include them in the training purpose."
   ]
  },
  {
   "cell_type": "code",
   "execution_count": 25,
   "metadata": {
    "execution": {
     "iopub.execute_input": "2021-02-08T14:36:02.938941Z",
     "iopub.status.busy": "2021-02-08T14:36:02.937908Z",
     "iopub.status.idle": "2021-02-08T14:36:02.944837Z",
     "shell.execute_reply": "2021-02-08T14:36:02.944244Z"
    },
    "papermill": {
     "duration": 0.05304,
     "end_time": "2021-02-08T14:36:02.945003",
     "exception": false,
     "start_time": "2021-02-08T14:36:02.891963",
     "status": "completed"
    },
    "tags": []
   },
   "outputs": [],
   "source": [
    "# Including only those rows\n",
    "no_label_classes = y.sum(axis = 1) == 0"
   ]
  },
  {
   "cell_type": "markdown",
   "metadata": {
    "papermill": {
     "duration": 0.042941,
     "end_time": "2021-02-08T14:36:03.031916",
     "exception": false,
     "start_time": "2021-02-08T14:36:02.988975",
     "status": "completed"
    },
    "tags": []
   },
   "source": [
    "#### Train-Validation Split"
   ]
  },
  {
   "cell_type": "code",
   "execution_count": 26,
   "metadata": {
    "execution": {
     "iopub.execute_input": "2021-02-08T14:36:03.121645Z",
     "iopub.status.busy": "2021-02-08T14:36:03.120949Z",
     "iopub.status.idle": "2021-02-08T14:36:03.216422Z",
     "shell.execute_reply": "2021-02-08T14:36:03.216932Z"
    },
    "papermill": {
     "duration": 0.142267,
     "end_time": "2021-02-08T14:36:03.217132",
     "exception": false,
     "start_time": "2021-02-08T14:36:03.074865",
     "status": "completed"
    },
    "tags": []
   },
   "outputs": [],
   "source": [
    "from sklearn.model_selection import train_test_split\n",
    "X_train, X_valid, y_train, y_valid = train_test_split(X[~no_label_classes], y[~no_label_classes],\n",
    "                                                     test_size = 0.3, random_state = 1234)"
   ]
  },
  {
   "cell_type": "code",
   "execution_count": 27,
   "metadata": {
    "execution": {
     "iopub.execute_input": "2021-02-08T14:36:03.309897Z",
     "iopub.status.busy": "2021-02-08T14:36:03.309198Z",
     "iopub.status.idle": "2021-02-08T14:36:03.313036Z",
     "shell.execute_reply": "2021-02-08T14:36:03.312501Z"
    },
    "papermill": {
     "duration": 0.052644,
     "end_time": "2021-02-08T14:36:03.313191",
     "exception": false,
     "start_time": "2021-02-08T14:36:03.260547",
     "status": "completed"
    },
    "tags": []
   },
   "outputs": [
    {
     "data": {
      "text/plain": [
       "((29626,), (29626, 20))"
      ]
     },
     "execution_count": 27,
     "metadata": {},
     "output_type": "execute_result"
    }
   ],
   "source": [
    "X_train.shape, y_train.shape"
   ]
  },
  {
   "cell_type": "code",
   "execution_count": 28,
   "metadata": {
    "execution": {
     "iopub.execute_input": "2021-02-08T14:36:03.406508Z",
     "iopub.status.busy": "2021-02-08T14:36:03.405811Z",
     "iopub.status.idle": "2021-02-08T14:36:03.408964Z",
     "shell.execute_reply": "2021-02-08T14:36:03.409461Z"
    },
    "papermill": {
     "duration": 0.052451,
     "end_time": "2021-02-08T14:36:03.409631",
     "exception": false,
     "start_time": "2021-02-08T14:36:03.357180",
     "status": "completed"
    },
    "tags": []
   },
   "outputs": [
    {
     "data": {
      "text/plain": [
       "((12698,), (12698, 20))"
      ]
     },
     "execution_count": 28,
     "metadata": {},
     "output_type": "execute_result"
    }
   ],
   "source": [
    "X_valid.shape, y_valid.shape"
   ]
  },
  {
   "cell_type": "markdown",
   "metadata": {
    "papermill": {
     "duration": 0.045072,
     "end_time": "2021-02-08T14:36:03.499254",
     "exception": false,
     "start_time": "2021-02-08T14:36:03.454182",
     "status": "completed"
    },
    "tags": []
   },
   "source": [
    "As mentioned earlier, the genres would be predicted based on the `overview`. \n",
    "\n",
    "The steps that we follow are as following:\n",
    "  1. Convert the overview rows into TF-IDF features using TfidfVectorizer\n",
    "  2. Train and build a multi-class classification model\n",
    "  3. Predict the genres of the given overview."
   ]
  },
  {
   "cell_type": "code",
   "execution_count": 29,
   "metadata": {
    "execution": {
     "iopub.execute_input": "2021-02-08T14:36:03.591656Z",
     "iopub.status.busy": "2021-02-08T14:36:03.591026Z",
     "iopub.status.idle": "2021-02-08T14:36:06.508231Z",
     "shell.execute_reply": "2021-02-08T14:36:06.508731Z"
    },
    "papermill": {
     "duration": 2.965092,
     "end_time": "2021-02-08T14:36:06.508963",
     "exception": false,
     "start_time": "2021-02-08T14:36:03.543871",
     "status": "completed"
    },
    "tags": []
   },
   "outputs": [],
   "source": [
    "from sklearn.feature_extraction.text import TfidfVectorizer\n",
    "\n",
    "vectorizer = TfidfVectorizer(max_features = 1000, stop_words = 'english', lowercase = True)\n",
    "\n",
    "X_train_vec = vectorizer.fit_transform(X_train)\n",
    "X_valid_vec = vectorizer.transform(X_valid)"
   ]
  },
  {
   "cell_type": "code",
   "execution_count": 30,
   "metadata": {
    "execution": {
     "iopub.execute_input": "2021-02-08T14:36:06.603918Z",
     "iopub.status.busy": "2021-02-08T14:36:06.602959Z",
     "iopub.status.idle": "2021-02-08T14:36:06.609904Z",
     "shell.execute_reply": "2021-02-08T14:36:06.609346Z"
    },
    "papermill": {
     "duration": 0.055527,
     "end_time": "2021-02-08T14:36:06.610062",
     "exception": false,
     "start_time": "2021-02-08T14:36:06.554535",
     "status": "completed"
    },
    "tags": []
   },
   "outputs": [
    {
     "data": {
      "text/plain": [
       "<29626x1000 sparse matrix of type '<class 'numpy.float64'>'\n",
       "\twith 374765 stored elements in Compressed Sparse Row format>"
      ]
     },
     "execution_count": 30,
     "metadata": {},
     "output_type": "execute_result"
    }
   ],
   "source": [
    "X_train_vec"
   ]
  },
  {
   "cell_type": "markdown",
   "metadata": {
    "papermill": {
     "duration": 0.044241,
     "end_time": "2021-02-08T14:36:06.698818",
     "exception": false,
     "start_time": "2021-02-08T14:36:06.654577",
     "status": "completed"
    },
    "tags": []
   },
   "source": [
    "We have _vectorized_ the `overview` columns and are done with preprocessing steps, we can now build our predictive model."
   ]
  },
  {
   "cell_type": "markdown",
   "metadata": {
    "papermill": {
     "duration": 0.045234,
     "end_time": "2021-02-08T14:36:06.789184",
     "exception": false,
     "start_time": "2021-02-08T14:36:06.743950",
     "status": "completed"
    },
    "tags": []
   },
   "source": [
    "## Model Building\n",
    "___\n",
    "Since we build a classification model, we would build the following models:\n",
    "1. Decision Tree Classifier\n",
    "2. Random Forest Classifier\n",
    "\n",
    "On researching on multiclass classification, I found out about **MLPClassifer**. \n",
    "\n",
    "The advantage of MLP Classifier is this implementation works with data represented as dense numpy arrays or sparse scipy arrays of floating point values. Being out training credentials are sparse matrix and numpy arrays, this would, intuitively, help build a better classification model. \n"
   ]
  },
  {
   "cell_type": "markdown",
   "metadata": {
    "papermill": {
     "duration": 0.062087,
     "end_time": "2021-02-08T14:36:06.906286",
     "exception": false,
     "start_time": "2021-02-08T14:36:06.844199",
     "status": "completed"
    },
    "tags": []
   },
   "source": [
    "Ref: https://scikit-learn.org/stable/modules/generated/sklearn.neural_network.MLPClassifier.html"
   ]
  },
  {
   "cell_type": "code",
   "execution_count": 31,
   "metadata": {
    "execution": {
     "iopub.execute_input": "2021-02-08T14:36:07.055064Z",
     "iopub.status.busy": "2021-02-08T14:36:07.054098Z",
     "iopub.status.idle": "2021-02-08T14:36:07.058315Z",
     "shell.execute_reply": "2021-02-08T14:36:07.059039Z"
    },
    "papermill": {
     "duration": 0.082841,
     "end_time": "2021-02-08T14:36:07.059296",
     "exception": false,
     "start_time": "2021-02-08T14:36:06.976455",
     "status": "completed"
    },
    "tags": []
   },
   "outputs": [],
   "source": [
    "from sklearn.model_selection import GridSearchCV\n",
    "\n",
    "def model_building(model, parameters = None, cv = 10):\n",
    "    if parameters == None:\n",
    "        model.fit(X_train_vec, y_train)\n",
    "        return(model, model.predict(X_train_vec), model.predict(X_valid_vec))\n",
    "    else:\n",
    "        model_cv = GridSearchCV(estimator = model, param_grid = parameters, cv = cv)\n",
    "        model_cv.fit(X_train_vec, y_train)\n",
    "        model = model_cv.best_estimator_\n",
    "            \n",
    "        return(model_cv,model, model.predict(X_train_vec), model.predict(X_valid_vec))"
   ]
  },
  {
   "cell_type": "code",
   "execution_count": 32,
   "metadata": {
    "execution": {
     "iopub.execute_input": "2021-02-08T14:36:07.163953Z",
     "iopub.status.busy": "2021-02-08T14:36:07.163065Z",
     "iopub.status.idle": "2021-02-08T14:36:35.077829Z",
     "shell.execute_reply": "2021-02-08T14:36:35.077172Z"
    },
    "papermill": {
     "duration": 27.965663,
     "end_time": "2021-02-08T14:36:35.078041",
     "exception": false,
     "start_time": "2021-02-08T14:36:07.112378",
     "status": "completed"
    },
    "tags": []
   },
   "outputs": [],
   "source": [
    "### Decision Tree Classifier\n",
    "from sklearn.tree import DecisionTreeClassifier\n",
    "\n",
    "dtr = DecisionTreeClassifier()\n",
    "model, train_dtr, valid_dtr = model_building(dtr)"
   ]
  },
  {
   "cell_type": "code",
   "execution_count": 33,
   "metadata": {
    "execution": {
     "iopub.execute_input": "2021-02-08T14:36:35.176698Z",
     "iopub.status.busy": "2021-02-08T14:36:35.175918Z",
     "iopub.status.idle": "2021-02-08T14:36:35.375877Z",
     "shell.execute_reply": "2021-02-08T14:36:35.375131Z"
    },
    "papermill": {
     "duration": 0.252036,
     "end_time": "2021-02-08T14:36:35.376079",
     "exception": false,
     "start_time": "2021-02-08T14:36:35.124043",
     "status": "completed"
    },
    "scrolled": true,
    "tags": []
   },
   "outputs": [
    {
     "name": "stdout",
     "output_type": "stream",
     "text": [
      "Classification Report\n",
      "Training:\n",
      "                  precision    recall  f1-score   support\n",
      "\n",
      "          Drama       1.00      0.99      1.00     14045\n",
      "         Comedy       1.00      0.99      0.99      8960\n",
      "       Thriller       1.00      1.00      1.00      5322\n",
      "        Romance       1.00      1.00      1.00      4646\n",
      "         Action       1.00      1.00      1.00      4585\n",
      "         Horror       1.00      1.00      1.00      3314\n",
      "          Crime       1.00      0.99      1.00      2976\n",
      "    Documentary       1.00      1.00      1.00      2731\n",
      "      Adventure       1.00      1.00      1.00      2420\n",
      "Science Fiction       1.00      1.00      1.00      2122\n",
      "         Family       1.00      0.99      1.00      1916\n",
      "        Mystery       1.00      1.00      1.00      1722\n",
      "        Fantasy       1.00      0.99      1.00      1619\n",
      "      Animation       1.00      0.99      0.99      1335\n",
      "        Foreign       1.00      0.99      0.99      1142\n",
      "          Music       1.00      0.99      1.00      1140\n",
      "        History       1.00      0.99      1.00       951\n",
      "            War       1.00      1.00      1.00       916\n",
      "        Western       1.00      1.00      1.00       711\n",
      "       TV Movie       1.00      1.00      1.00       528\n",
      "\n",
      "      micro avg       1.00      0.99      1.00     63101\n",
      "      macro avg       1.00      0.99      1.00     63101\n",
      "   weighted avg       1.00      0.99      1.00     63101\n",
      "    samples avg       0.99      0.99      0.99     63101\n",
      "\n",
      "Validation:\n",
      "                  precision    recall  f1-score   support\n",
      "\n",
      "          Drama       0.56      0.58      0.57      5978\n",
      "         Comedy       0.43      0.41      0.42      3846\n",
      "       Thriller       0.32      0.30      0.31      2264\n",
      "        Romance       0.32      0.29      0.31      2027\n",
      "         Action       0.32      0.25      0.28      1980\n",
      "         Horror       0.32      0.32      0.32      1346\n",
      "          Crime       0.31      0.26      0.28      1293\n",
      "    Documentary       0.48      0.47      0.48      1155\n",
      "      Adventure       0.18      0.13      0.15      1050\n",
      "Science Fiction       0.33      0.26      0.29       906\n",
      "         Family       0.18      0.13      0.15       816\n",
      "        Mystery       0.17      0.14      0.15       729\n",
      "        Fantasy       0.13      0.08      0.10       671\n",
      "      Animation       0.20      0.15      0.17       585\n",
      "        Foreign       0.03      0.02      0.03       457\n",
      "          Music       0.25      0.19      0.22       448\n",
      "        History       0.09      0.06      0.07       428\n",
      "            War       0.31      0.28      0.30       394\n",
      "        Western       0.23      0.16      0.19       324\n",
      "       TV Movie       0.04      0.03      0.03       223\n",
      "\n",
      "      micro avg       0.38      0.34      0.36     26920\n",
      "      macro avg       0.26      0.23      0.24     26920\n",
      "   weighted avg       0.36      0.34      0.35     26920\n",
      "    samples avg       0.41      0.38      0.36     26920\n",
      "\n",
      "Accuracy\n",
      "Traning:  0.9921015324377236\n",
      "Validation:  0.10025200819026618\n"
     ]
    },
    {
     "name": "stderr",
     "output_type": "stream",
     "text": [
      "/opt/conda/lib/python3.7/site-packages/sklearn/metrics/_classification.py:1221: UndefinedMetricWarning: Precision and F-score are ill-defined and being set to 0.0 in samples with no predicted labels. Use `zero_division` parameter to control this behavior.\n",
      "  _warn_prf(average, modifier, msg_start, len(result))\n"
     ]
    }
   ],
   "source": [
    "from sklearn.metrics import classification_report, accuracy_score\n",
    "print(\"Classification Report\")\n",
    "print(\"Training:\\n\",classification_report(y_true = y_train, y_pred = train_dtr, target_names = genre_counts))\n",
    "print(\"Validation:\\n\",classification_report(y_true = y_valid, y_pred = valid_dtr, target_names = genre_counts))\n",
    "\n",
    "print(\"Accuracy\")\n",
    "train_dtr_acc = accuracy_score(y_true = y_train, y_pred = train_dtr)\n",
    "valid_dtr_acc = accuracy_score(y_true = y_valid, y_pred = valid_dtr)\n",
    "print(\"Traning: \", train_dtr_acc)\n",
    "print(\"Validation: \",valid_dtr_acc)"
   ]
  },
  {
   "cell_type": "markdown",
   "metadata": {
    "papermill": {
     "duration": 0.046444,
     "end_time": "2021-02-08T14:36:35.469237",
     "exception": false,
     "start_time": "2021-02-08T14:36:35.422793",
     "status": "completed"
    },
    "tags": []
   },
   "source": [
    "___"
   ]
  },
  {
   "cell_type": "code",
   "execution_count": 34,
   "metadata": {
    "execution": {
     "iopub.execute_input": "2021-02-08T14:36:35.567425Z",
     "iopub.status.busy": "2021-02-08T14:36:35.566791Z",
     "iopub.status.idle": "2021-02-08T14:38:53.835331Z",
     "shell.execute_reply": "2021-02-08T14:38:53.834564Z"
    },
    "papermill": {
     "duration": 138.317282,
     "end_time": "2021-02-08T14:38:53.835514",
     "exception": false,
     "start_time": "2021-02-08T14:36:35.518232",
     "status": "completed"
    },
    "tags": []
   },
   "outputs": [],
   "source": [
    "### Random Forest Classifier\n",
    "from sklearn.ensemble import RandomForestClassifier\n",
    "\n",
    "rfc = RandomForestClassifier()\n",
    "model, train_rfc, valid_rfc = model_building(rfc)"
   ]
  },
  {
   "cell_type": "code",
   "execution_count": 35,
   "metadata": {
    "execution": {
     "iopub.execute_input": "2021-02-08T14:38:53.938346Z",
     "iopub.status.busy": "2021-02-08T14:38:53.937602Z",
     "iopub.status.idle": "2021-02-08T14:38:54.120951Z",
     "shell.execute_reply": "2021-02-08T14:38:54.121596Z"
    },
    "papermill": {
     "duration": 0.237691,
     "end_time": "2021-02-08T14:38:54.121792",
     "exception": false,
     "start_time": "2021-02-08T14:38:53.884101",
     "status": "completed"
    },
    "scrolled": true,
    "tags": []
   },
   "outputs": [
    {
     "name": "stdout",
     "output_type": "stream",
     "text": [
      "Classification Report\n",
      "Training:\n",
      "                  precision    recall  f1-score   support\n",
      "\n",
      "          Drama       1.00      1.00      1.00     14045\n",
      "         Comedy       1.00      0.99      0.99      8960\n",
      "       Thriller       1.00      1.00      1.00      5322\n",
      "        Romance       1.00      1.00      1.00      4646\n",
      "         Action       1.00      1.00      1.00      4585\n",
      "         Horror       1.00      1.00      1.00      3314\n",
      "          Crime       1.00      0.99      1.00      2976\n",
      "    Documentary       1.00      0.99      1.00      2731\n",
      "      Adventure       1.00      0.99      1.00      2420\n",
      "Science Fiction       1.00      1.00      1.00      2122\n",
      "         Family       1.00      0.99      1.00      1916\n",
      "        Mystery       1.00      1.00      1.00      1722\n",
      "        Fantasy       1.00      0.99      1.00      1619\n",
      "      Animation       1.00      0.99      0.99      1335\n",
      "        Foreign       1.00      0.98      0.99      1142\n",
      "          Music       1.00      0.99      1.00      1140\n",
      "        History       1.00      0.99      0.99       951\n",
      "            War       1.00      0.99      1.00       916\n",
      "        Western       1.00      1.00      1.00       711\n",
      "       TV Movie       1.00      0.99      1.00       528\n",
      "\n",
      "      micro avg       1.00      0.99      1.00     63101\n",
      "      macro avg       1.00      0.99      1.00     63101\n",
      "   weighted avg       1.00      0.99      1.00     63101\n",
      "    samples avg       0.99      0.99      0.99     63101\n",
      "\n",
      "Validation:\n",
      "                  precision    recall  f1-score   support\n",
      "\n",
      "          Drama       0.63      0.68      0.66      5978\n",
      "         Comedy       0.69      0.22      0.34      3846\n",
      "       Thriller       0.56      0.08      0.15      2264\n",
      "        Romance       0.63      0.14      0.23      2027\n",
      "         Action       0.71      0.06      0.11      1980\n",
      "         Horror       0.65      0.13      0.22      1346\n",
      "          Crime       0.62      0.09      0.16      1293\n",
      "    Documentary       0.83      0.41      0.54      1155\n",
      "      Adventure       0.73      0.01      0.02      1050\n",
      "Science Fiction       0.76      0.17      0.28       906\n",
      "         Family       0.50      0.01      0.02       816\n",
      "        Mystery       0.43      0.00      0.01       729\n",
      "        Fantasy       0.83      0.01      0.01       671\n",
      "      Animation       0.89      0.08      0.15       585\n",
      "        Foreign       0.00      0.00      0.00       457\n",
      "          Music       0.60      0.07      0.13       448\n",
      "        History       0.67      0.00      0.01       428\n",
      "            War       0.76      0.06      0.10       394\n",
      "        Western       0.78      0.02      0.04       324\n",
      "       TV Movie       0.00      0.00      0.00       223\n",
      "\n",
      "      micro avg       0.65      0.25      0.36     26920\n",
      "      macro avg       0.61      0.11      0.16     26920\n",
      "   weighted avg       0.65      0.25      0.29     26920\n",
      "    samples avg       0.47      0.30      0.34     26920\n",
      "\n",
      "Accuracy\n",
      "Traning:  0.9918314993586714\n",
      "Validation:  0.15088990392187746\n"
     ]
    },
    {
     "name": "stderr",
     "output_type": "stream",
     "text": [
      "/opt/conda/lib/python3.7/site-packages/sklearn/metrics/_classification.py:1221: UndefinedMetricWarning: Precision and F-score are ill-defined and being set to 0.0 in samples with no predicted labels. Use `zero_division` parameter to control this behavior.\n",
      "  _warn_prf(average, modifier, msg_start, len(result))\n"
     ]
    }
   ],
   "source": [
    "print(\"Classification Report\")\n",
    "print(\"Training:\\n\",classification_report(y_true = y_train, y_pred = train_rfc, target_names = genre_counts))\n",
    "print(\"Validation:\\n\",classification_report(y_true = y_valid, y_pred = valid_rfc, target_names = genre_counts))\n",
    "\n",
    "print(\"Accuracy\")\n",
    "train_rfc_acc = accuracy_score(y_true = y_train, y_pred = train_rfc)\n",
    "valid_rfc_acc = accuracy_score(y_true = y_valid, y_pred = valid_rfc)\n",
    "print(\"Traning: \", train_rfc_acc)\n",
    "print(\"Validation: \",valid_rfc_acc)"
   ]
  },
  {
   "cell_type": "code",
   "execution_count": 36,
   "metadata": {
    "execution": {
     "iopub.execute_input": "2021-02-08T14:38:54.221758Z",
     "iopub.status.busy": "2021-02-08T14:38:54.221118Z",
     "iopub.status.idle": "2021-02-08T14:39:59.192541Z",
     "shell.execute_reply": "2021-02-08T14:39:59.191789Z"
    },
    "papermill": {
     "duration": 65.023664,
     "end_time": "2021-02-08T14:39:59.192709",
     "exception": false,
     "start_time": "2021-02-08T14:38:54.169045",
     "status": "completed"
    },
    "scrolled": true,
    "tags": []
   },
   "outputs": [
    {
     "name": "stdout",
     "output_type": "stream",
     "text": [
      "Iteration 1, loss = 8.31890959\n",
      "Iteration 2, loss = 5.54213996\n",
      "Iteration 3, loss = 5.00175414\n",
      "Iteration 4, loss = 4.65493015\n",
      "Iteration 5, loss = 4.46603203\n",
      "Iteration 6, loss = 4.35601156\n",
      "Iteration 7, loss = 4.28422215\n",
      "Iteration 8, loss = 4.22981774\n",
      "Iteration 9, loss = 4.18750172\n",
      "Iteration 10, loss = 4.15249623\n",
      "Iteration 11, loss = 4.12111551\n",
      "Iteration 12, loss = 4.09352486\n",
      "Iteration 13, loss = 4.06936228\n",
      "Iteration 14, loss = 4.04652458\n",
      "Iteration 15, loss = 4.02488472\n",
      "Iteration 16, loss = 4.00505998\n",
      "Iteration 17, loss = 3.98633672\n",
      "Iteration 18, loss = 3.96784809\n",
      "Iteration 19, loss = 3.95168693\n",
      "Iteration 20, loss = 3.93489659\n",
      "Iteration 21, loss = 3.91890784\n",
      "Iteration 22, loss = 3.90287685\n",
      "Iteration 23, loss = 3.88747064\n",
      "Iteration 24, loss = 3.87274454\n",
      "Iteration 25, loss = 3.85825175\n",
      "Iteration 26, loss = 3.84386769\n",
      "Iteration 27, loss = 3.83012956\n",
      "Iteration 28, loss = 3.81571535\n",
      "Iteration 29, loss = 3.80224386\n",
      "Iteration 30, loss = 3.78838035\n",
      "Iteration 31, loss = 3.77459684\n",
      "Iteration 32, loss = 3.76165934\n",
      "Iteration 33, loss = 3.74841704\n",
      "Iteration 34, loss = 3.73442959\n",
      "Iteration 35, loss = 3.72145285\n",
      "Iteration 36, loss = 3.70857736\n",
      "Iteration 37, loss = 3.69548480\n",
      "Iteration 38, loss = 3.68219067\n",
      "Iteration 39, loss = 3.66881078\n",
      "Iteration 40, loss = 3.65518790\n",
      "Iteration 41, loss = 3.64210064\n",
      "Iteration 42, loss = 3.62830036\n",
      "Iteration 43, loss = 3.61581896\n",
      "Iteration 44, loss = 3.60164736\n",
      "Iteration 45, loss = 3.58681102\n",
      "Iteration 46, loss = 3.57448925\n",
      "Iteration 47, loss = 3.55991919\n",
      "Iteration 48, loss = 3.54597348\n",
      "Iteration 49, loss = 3.53202274\n",
      "Iteration 50, loss = 3.51786419\n",
      "Iteration 51, loss = 3.50391355\n",
      "Iteration 52, loss = 3.48958032\n",
      "Iteration 53, loss = 3.47518407\n",
      "Iteration 54, loss = 3.46138210\n",
      "Iteration 55, loss = 3.44701130\n",
      "Iteration 56, loss = 3.43201091\n",
      "Iteration 57, loss = 3.41728827\n",
      "Iteration 58, loss = 3.40254973\n",
      "Iteration 59, loss = 3.38795351\n",
      "Iteration 60, loss = 3.37259006\n",
      "Iteration 61, loss = 3.35743968\n",
      "Iteration 62, loss = 3.34206983\n",
      "Iteration 63, loss = 3.32705562\n",
      "Iteration 64, loss = 3.31111778\n",
      "Iteration 65, loss = 3.29695917\n",
      "Iteration 66, loss = 3.28091686\n",
      "Iteration 67, loss = 3.26472384\n",
      "Iteration 68, loss = 3.24948750\n",
      "Iteration 69, loss = 3.23331079\n",
      "Iteration 70, loss = 3.21856253\n",
      "Iteration 71, loss = 3.20197014\n",
      "Iteration 72, loss = 3.18643509\n",
      "Iteration 73, loss = 3.17041333\n",
      "Iteration 74, loss = 3.15397570\n",
      "Iteration 75, loss = 3.13896612\n",
      "Iteration 76, loss = 3.12225595\n",
      "Iteration 77, loss = 3.10738722\n",
      "Iteration 78, loss = 3.09029297\n",
      "Iteration 79, loss = 3.07356188\n",
      "Iteration 80, loss = 3.05876559\n",
      "Iteration 81, loss = 3.04114875\n",
      "Iteration 82, loss = 3.02546085\n",
      "Iteration 83, loss = 3.01042550\n",
      "Iteration 84, loss = 2.99367270\n",
      "Iteration 85, loss = 2.97738107\n",
      "Iteration 86, loss = 2.96185720\n",
      "Iteration 87, loss = 2.94489969\n",
      "Iteration 88, loss = 2.92943064\n",
      "Iteration 89, loss = 2.91321031\n",
      "Iteration 90, loss = 2.89749350\n",
      "Iteration 91, loss = 2.88168579\n",
      "Iteration 92, loss = 2.86552787\n",
      "Iteration 93, loss = 2.85026945\n",
      "Iteration 94, loss = 2.83329362\n",
      "Iteration 95, loss = 2.81841542\n",
      "Iteration 96, loss = 2.80254797\n",
      "Iteration 97, loss = 2.78611051\n",
      "Iteration 98, loss = 2.77068843\n",
      "Iteration 99, loss = 2.75444120\n",
      "Iteration 100, loss = 2.73968960\n"
     ]
    },
    {
     "name": "stderr",
     "output_type": "stream",
     "text": [
      "/opt/conda/lib/python3.7/site-packages/sklearn/neural_network/_multilayer_perceptron.py:585: ConvergenceWarning: Stochastic Optimizer: Maximum iterations (100) reached and the optimization hasn't converged yet.\n",
      "  % self.max_iter, ConvergenceWarning)\n"
     ]
    }
   ],
   "source": [
    "### MLP Classifier\n",
    "from sklearn.neural_network import MLPClassifier\n",
    "mlp = MLPClassifier(verbose = True, max_iter = 100, hidden_layer_sizes=(100))\n",
    "\n",
    "model, train_mlp, valid_mlp = model_building(mlp, cv = 10)"
   ]
  },
  {
   "cell_type": "code",
   "execution_count": 37,
   "metadata": {
    "execution": {
     "iopub.execute_input": "2021-02-08T14:39:59.355632Z",
     "iopub.status.busy": "2021-02-08T14:39:59.354957Z",
     "iopub.status.idle": "2021-02-08T14:39:59.549790Z",
     "shell.execute_reply": "2021-02-08T14:39:59.548894Z"
    },
    "papermill": {
     "duration": 0.279201,
     "end_time": "2021-02-08T14:39:59.549996",
     "exception": false,
     "start_time": "2021-02-08T14:39:59.270795",
     "status": "completed"
    },
    "scrolled": true,
    "tags": []
   },
   "outputs": [
    {
     "name": "stdout",
     "output_type": "stream",
     "text": [
      "Classification Report\n",
      "Training:\n",
      "                  precision    recall  f1-score   support\n",
      "\n",
      "          Drama       0.84      0.84      0.84     14045\n",
      "         Comedy       0.82      0.72      0.77      8960\n",
      "       Thriller       0.83      0.54      0.66      5322\n",
      "        Romance       0.81      0.54      0.65      4646\n",
      "         Action       0.85      0.57      0.69      4585\n",
      "         Horror       0.87      0.65      0.75      3314\n",
      "          Crime       0.86      0.50      0.63      2976\n",
      "    Documentary       0.94      0.78      0.85      2731\n",
      "      Adventure       0.85      0.47      0.61      2420\n",
      "Science Fiction       0.89      0.58      0.70      2122\n",
      "         Family       0.87      0.51      0.64      1916\n",
      "        Mystery       0.85      0.37      0.51      1722\n",
      "        Fantasy       0.82      0.36      0.50      1619\n",
      "      Animation       0.92      0.56      0.70      1335\n",
      "        Foreign       0.91      0.12      0.21      1142\n",
      "          Music       0.88      0.56      0.68      1140\n",
      "        History       0.87      0.47      0.61       951\n",
      "            War       0.90      0.71      0.80       916\n",
      "        Western       0.96      0.75      0.84       711\n",
      "       TV Movie       0.91      0.18      0.30       528\n",
      "\n",
      "      micro avg       0.85      0.63      0.72     63101\n",
      "      macro avg       0.87      0.54      0.65     63101\n",
      "   weighted avg       0.85      0.63      0.71     63101\n",
      "    samples avg       0.80      0.67      0.70     63101\n",
      "\n",
      "Validation:\n",
      "                  precision    recall  f1-score   support\n",
      "\n",
      "          Drama       0.64      0.63      0.64      5978\n",
      "         Comedy       0.57      0.49      0.53      3846\n",
      "       Thriller       0.50      0.33      0.40      2264\n",
      "        Romance       0.51      0.33      0.40      2027\n",
      "         Action       0.52      0.34      0.41      1980\n",
      "         Horror       0.55      0.42      0.47      1346\n",
      "          Crime       0.51      0.28      0.36      1293\n",
      "    Documentary       0.72      0.59      0.65      1155\n",
      "      Adventure       0.40      0.19      0.26      1050\n",
      "Science Fiction       0.58      0.37      0.45       906\n",
      "         Family       0.47      0.25      0.33       816\n",
      "        Mystery       0.36      0.15      0.21       729\n",
      "        Fantasy       0.36      0.16      0.22       671\n",
      "      Animation       0.40      0.23      0.29       585\n",
      "        Foreign       0.11      0.01      0.02       457\n",
      "          Music       0.46      0.26      0.33       448\n",
      "        History       0.29      0.14      0.19       428\n",
      "            War       0.51      0.42      0.46       394\n",
      "        Western       0.54      0.39      0.45       324\n",
      "       TV Movie       0.05      0.01      0.02       223\n",
      "\n",
      "      micro avg       0.56      0.41      0.47     26920\n",
      "      macro avg       0.45      0.30      0.35     26920\n",
      "   weighted avg       0.53      0.41      0.45     26920\n",
      "    samples avg       0.53      0.46      0.45     26920\n",
      "\n",
      "Accuracy\n",
      "Traning:  0.36967528522243975\n",
      "Validation:  0.15317372814616476\n"
     ]
    },
    {
     "name": "stderr",
     "output_type": "stream",
     "text": [
      "/opt/conda/lib/python3.7/site-packages/sklearn/metrics/_classification.py:1221: UndefinedMetricWarning: Precision and F-score are ill-defined and being set to 0.0 in samples with no predicted labels. Use `zero_division` parameter to control this behavior.\n",
      "  _warn_prf(average, modifier, msg_start, len(result))\n"
     ]
    }
   ],
   "source": [
    "print(\"Classification Report\")\n",
    "print(\"Training:\\n\",classification_report(y_true = y_train, y_pred = train_mlp, target_names = genre_counts))\n",
    "print(\"Validation:\\n\",classification_report(y_true = y_valid, y_pred = valid_mlp, target_names = genre_counts))\n",
    "\n",
    "print(\"Accuracy\")\n",
    "train_mlp_acc = accuracy_score(y_true = y_train, y_pred = train_mlp)\n",
    "valid_mlp_acc = accuracy_score(y_true = y_valid, y_pred = valid_mlp)\n",
    "print(\"Traning: \", train_mlp_acc)\n",
    "print(\"Validation: \",valid_mlp_acc)"
   ]
  },
  {
   "cell_type": "code",
   "execution_count": 38,
   "metadata": {
    "execution": {
     "iopub.execute_input": "2021-02-08T14:39:59.755048Z",
     "iopub.status.busy": "2021-02-08T14:39:59.754085Z",
     "iopub.status.idle": "2021-02-08T14:39:59.759193Z",
     "shell.execute_reply": "2021-02-08T14:39:59.760029Z"
    },
    "papermill": {
     "duration": 0.096164,
     "end_time": "2021-02-08T14:39:59.760273",
     "exception": false,
     "start_time": "2021-02-08T14:39:59.664109",
     "status": "completed"
    },
    "tags": []
   },
   "outputs": [],
   "source": [
    "# Evaluation Metrics' Dataframe\n",
    "train_acc = [train_dtr_acc, train_rfc_acc, train_mlp_acc]\n",
    "valid_acc = [valid_dtr_acc, valid_rfc_acc, valid_mlp_acc]\n",
    "eval_mat = pd.DataFrame([train_acc, valid_acc],  index = ['Traning','Validation'],\n",
    "                        columns = ['Decision Tree Classifier', 'Random Forest Classifier', 'MLP Classifier'])"
   ]
  },
  {
   "cell_type": "code",
   "execution_count": 39,
   "metadata": {
    "execution": {
     "iopub.execute_input": "2021-02-08T14:39:59.953576Z",
     "iopub.status.busy": "2021-02-08T14:39:59.952518Z",
     "iopub.status.idle": "2021-02-08T14:39:59.961720Z",
     "shell.execute_reply": "2021-02-08T14:39:59.962481Z"
    },
    "papermill": {
     "duration": 0.103928,
     "end_time": "2021-02-08T14:39:59.962752",
     "exception": false,
     "start_time": "2021-02-08T14:39:59.858824",
     "status": "completed"
    },
    "tags": []
   },
   "outputs": [
    {
     "data": {
      "text/html": [
       "<div>\n",
       "<style scoped>\n",
       "    .dataframe tbody tr th:only-of-type {\n",
       "        vertical-align: middle;\n",
       "    }\n",
       "\n",
       "    .dataframe tbody tr th {\n",
       "        vertical-align: top;\n",
       "    }\n",
       "\n",
       "    .dataframe thead th {\n",
       "        text-align: right;\n",
       "    }\n",
       "</style>\n",
       "<table border=\"1\" class=\"dataframe\">\n",
       "  <thead>\n",
       "    <tr style=\"text-align: right;\">\n",
       "      <th></th>\n",
       "      <th>Traning</th>\n",
       "      <th>Validation</th>\n",
       "    </tr>\n",
       "  </thead>\n",
       "  <tbody>\n",
       "    <tr>\n",
       "      <th>Decision Tree Classifier</th>\n",
       "      <td>0.992102</td>\n",
       "      <td>0.100252</td>\n",
       "    </tr>\n",
       "    <tr>\n",
       "      <th>Random Forest Classifier</th>\n",
       "      <td>0.991831</td>\n",
       "      <td>0.150890</td>\n",
       "    </tr>\n",
       "    <tr>\n",
       "      <th>MLP Classifier</th>\n",
       "      <td>0.369675</td>\n",
       "      <td>0.153174</td>\n",
       "    </tr>\n",
       "  </tbody>\n",
       "</table>\n",
       "</div>"
      ],
      "text/plain": [
       "                           Traning  Validation\n",
       "Decision Tree Classifier  0.992102    0.100252\n",
       "Random Forest Classifier  0.991831    0.150890\n",
       "MLP Classifier            0.369675    0.153174"
      ]
     },
     "execution_count": 39,
     "metadata": {},
     "output_type": "execute_result"
    }
   ],
   "source": [
    "eval_mat.T"
   ]
  },
  {
   "cell_type": "markdown",
   "metadata": {
    "papermill": {
     "duration": 0.079271,
     "end_time": "2021-02-08T14:40:00.125101",
     "exception": false,
     "start_time": "2021-02-08T14:40:00.045830",
     "status": "completed"
    },
    "tags": []
   },
   "source": [
    "Observations:\n",
    " - As we know the characteristic of **Decision trees**, they tend to *overfit* the traning dataset (as it can be seen above too) and perfomance is measured on the validation dataset. We can clearly see that **Decision Tree Classifier** fails to perform well on the validation dataset.\n",
    " \n",
    " - **Random Forest** is a bagging algorithm and has a better control on over-fitting. Here, we can see that **Random Forest Classifier** has better performance that decision tree.\n",
    " \n",
    " - **Multi-layer Perceptron (MLP)** is based on neural networks and uses a supervised learning technique called backpropagation for training. In the above dataframe, we can clearly see that **MLP Classifier** performs the best among the 3.\n",
    " \n",
    "____\n",
    "\n"
   ]
  },
  {
   "cell_type": "markdown",
   "metadata": {
    "papermill": {
     "duration": 0.080608,
     "end_time": "2021-02-08T14:40:00.287584",
     "exception": false,
     "start_time": "2021-02-08T14:40:00.206976",
     "status": "completed"
    },
    "tags": []
   },
   "source": [
    "Displaying the predicted genres."
   ]
  },
  {
   "cell_type": "code",
   "execution_count": 40,
   "metadata": {
    "execution": {
     "iopub.execute_input": "2021-02-08T14:40:00.458277Z",
     "iopub.status.busy": "2021-02-08T14:40:00.457135Z",
     "iopub.status.idle": "2021-02-08T14:40:00.503337Z",
     "shell.execute_reply": "2021-02-08T14:40:00.503909Z"
    },
    "papermill": {
     "duration": 0.135132,
     "end_time": "2021-02-08T14:40:00.504105",
     "exception": false,
     "start_time": "2021-02-08T14:40:00.368973",
     "status": "completed"
    },
    "tags": []
   },
   "outputs": [],
   "source": [
    "test_preds = final_genres.inverse_transform(valid_mlp)"
   ]
  },
  {
   "cell_type": "code",
   "execution_count": 41,
   "metadata": {
    "execution": {
     "iopub.execute_input": "2021-02-08T14:40:00.668987Z",
     "iopub.status.busy": "2021-02-08T14:40:00.667908Z",
     "iopub.status.idle": "2021-02-08T14:40:00.680064Z",
     "shell.execute_reply": "2021-02-08T14:40:00.679319Z"
    },
    "papermill": {
     "duration": 0.096751,
     "end_time": "2021-02-08T14:40:00.680227",
     "exception": false,
     "start_time": "2021-02-08T14:40:00.583476",
     "status": "completed"
    },
    "tags": []
   },
   "outputs": [
    {
     "data": {
      "text/plain": [
       "[['Comedy'],\n",
       " ['Drama'],\n",
       " ['Drama', 'Comedy'],\n",
       " ['Drama'],\n",
       " ['Documentary'],\n",
       " ['Drama', 'Comedy'],\n",
       " ['Comedy', 'Romance'],\n",
       " ['Drama'],\n",
       " ['Comedy'],\n",
       " ['Documentary']]"
      ]
     },
     "execution_count": 41,
     "metadata": {},
     "output_type": "execute_result"
    }
   ],
   "source": [
    "[list(i) for i in test_preds][0:10]"
   ]
  },
  {
   "cell_type": "markdown",
   "metadata": {
    "papermill": {
     "duration": 0.079275,
     "end_time": "2021-02-08T14:40:00.839729",
     "exception": false,
     "start_time": "2021-02-08T14:40:00.760454",
     "status": "completed"
    },
    "tags": []
   },
   "source": [
    "___"
   ]
  },
  {
   "cell_type": "markdown",
   "metadata": {
    "papermill": {
     "duration": 0.079119,
     "end_time": "2021-02-08T14:40:00.998792",
     "exception": false,
     "start_time": "2021-02-08T14:40:00.919673",
     "status": "completed"
    },
    "tags": []
   },
   "source": [
    "## Challenges Faced\n",
    "\n",
    "1. Extracting genres from the list of dictionaries present in the feature genres.\n",
    "2. Selecting the right method to convert multi-class labels\n",
    "3. Selecting the right classification algorithm\n",
    "4. Evaluation metrics\n",
    "5. Combining the validation dataset after predicting the genres\n",
    "___"
   ]
  },
  {
   "cell_type": "markdown",
   "metadata": {
    "papermill": {
     "duration": 0.078452,
     "end_time": "2021-02-08T14:40:01.156047",
     "exception": false,
     "start_time": "2021-02-08T14:40:01.077595",
     "status": "completed"
    },
    "tags": []
   },
   "source": [
    "## Future Scope\n",
    "\n",
    "1. Hyper parameter tuning\n"
   ]
  }
 ],
 "metadata": {
  "kernelspec": {
   "display_name": "Python 3",
   "language": "python",
   "name": "python3"
  },
  "language_info": {
   "codemirror_mode": {
    "name": "ipython",
    "version": 3
   },
   "file_extension": ".py",
   "mimetype": "text/x-python",
   "name": "python",
   "nbconvert_exporter": "python",
   "pygments_lexer": "ipython3",
   "version": "3.7.9"
  },
  "papermill": {
   "default_parameters": {},
   "duration": 253.264738,
   "end_time": "2021-02-08T14:40:02.046135",
   "environment_variables": {},
   "exception": null,
   "input_path": "__notebook__.ipynb",
   "output_path": "__notebook__.ipynb",
   "parameters": {},
   "start_time": "2021-02-08T14:35:48.781397",
   "version": "2.2.2"
  }
 },
 "nbformat": 4,
 "nbformat_minor": 4
}
